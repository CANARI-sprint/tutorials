{
 "cells": [
  {
   "cell_type": "markdown",
   "id": "7b42f1c8-7037-4327-859b-2b31232d294d",
   "metadata": {},
   "source": [
    "# Climatology Tutorial"
   ]
  },
  {
   "cell_type": "markdown",
   "id": "ec863bc1-f22a-42bd-a494-49be5028db4a",
   "metadata": {},
   "source": [
    "This demonstration uses COAsT package has two parts:\n",
    "\n",
    "1)  Climatology.make_climatology():\n",
    "    This demonstration uses the COAsT package to calculate a climatological mean of an\n",
    "    input dataset at a desired output frequency. Output can be written straight\n",
    "    to file.\n",
    "\n",
    "2) Make multiyear climatology: This demonstrations uses the COAsT package to calculate a climatological mean of an\n",
    "    input dataset at a desired output frequency, over multiple years, but will work with single year datasets too."
   ]
  },
  {
   "cell_type": "code",
   "execution_count": null,
   "id": "1d5e507e-7579-4fff-964c-2010d0fc86f6",
   "metadata": {},
   "outputs": [],
   "source": [
    "import warnings \n",
    "warnings.filterwarnings('ignore')"
   ]
  },
  {
   "cell_type": "code",
   "execution_count": null,
   "id": "1217a907-103b-43b5-b673-dbd4171c766e",
   "metadata": {},
   "outputs": [],
   "source": [
    "import coast\n",
    "import glob\n",
    "import xarray as xr\n",
    "import cftime\n",
    "import pandas as pd"
   ]
  },
  {
   "cell_type": "markdown",
   "id": "fa5b1d34-06c3-4139-a1c8-122bd6afadcf",
   "metadata": {},
   "source": [
    "### Usage of coast.Climatology.make_climatology().\n",
    "\n",
    "Calculates mean over a given period of time. This doesn't take different years into account, unless using the\n",
    "'years' frequency."
   ]
  },
  {
   "cell_type": "code",
   "execution_count": null,
   "id": "83941775-0887-4b28-9035-f76e5aae0d39",
   "metadata": {},
   "outputs": [],
   "source": [
    "data_path = \"/gws/nopw/j04/canari/shared/large-ensemble/priority/HIST2/1\"\n",
    "fn_nemo_dom = \"/gws/nopw/j04/canari/users/dlrhodso/mesh_mask.nc\"\n",
    "config_t = \"../config/example_nemo_grid_t.json\"\n",
    "infiles = glob.glob((f\"{data_path}/OCN/yearly/*/*_votemper.nc\"))"
   ]
  },
  {
   "cell_type": "code",
   "execution_count": null,
   "id": "271de0d3-07bd-4971-ae2e-dacb73cf79ea",
   "metadata": {},
   "outputs": [],
   "source": [
    "fn_nemo_dat = xr.open_mfdataset(infiles)"
   ]
  },
  {
   "cell_type": "code",
   "execution_count": null,
   "id": "c20b2740-a3cf-44cb-8351-7a297eae6a74",
   "metadata": {},
   "outputs": [],
   "source": [
    "fn_nemo_dat"
   ]
  },
  {
   "cell_type": "code",
   "execution_count": null,
   "id": "505111f9-6168-4cca-ae06-c6ba02cec218",
   "metadata": {},
   "outputs": [],
   "source": [
    "nemo_data = coast.Gridded(fn_data=fn_nemo_dat,\n",
    "                          fn_domain=fn_nemo_dom,\n",
    "                          config=config_t,\n",
    "                          ).dataset\n"
   ]
  },
  {
   "cell_type": "code",
   "execution_count": null,
   "id": "5785dc37-1b4a-4650-805c-c453343de37a",
   "metadata": {},
   "outputs": [],
   "source": [
    "nemo_data"
   ]
  },
  {
   "cell_type": "markdown",
   "id": "8b130ea3",
   "metadata": {},
   "source": [
    "Calculate the climatology for temperature and sea surface height (ssh) as an example:"
   ]
  },
  {
   "cell_type": "code",
   "execution_count": null,
   "id": "f0567fe3-6945-4b28-a81e-ce66ad8e8cd1",
   "metadata": {},
   "outputs": [],
   "source": [
    "# Select specific data variables.\n",
    "data = nemo_data[[\"temperature\"]]\n",
    "\n",
    "# Define frequency -- Any xarray time string: season, month, etc\n",
    "climatology_frequency = \"month\""
   ]
  },
  {
   "cell_type": "code",
   "execution_count": null,
   "id": "b5e3a382",
   "metadata": {},
   "outputs": [],
   "source": [
    "# Calculate the climatology and write to file.\n",
    "clim = coast.Climatology()\n",
    "clim_mean = clim.make_climatology(data, climatology_frequency, fn_out=None)"
   ]
  },
  {
   "cell_type": "markdown",
   "id": "a6b46dda",
   "metadata": {},
   "source": [
    "Below shows the structure of a dataset returned, containing 1 month worth of meaned temperature and sea surface height data:"
   ]
  },
  {
   "cell_type": "code",
   "execution_count": null,
   "id": "5497105f",
   "metadata": {},
   "outputs": [],
   "source": [
    "clim_mean  # uncomment to print data object summary"
   ]
  },
  {
   "cell_type": "markdown",
   "id": "1f96bfa3-4bf6-4e5d-89bb-440ca400de5a",
   "metadata": {},
   "source": [
    "### Create multiyear averages for seasons\n",
    "\n",
    "Calculates the mean over a specified period and groups the data by year-period"
   ]
  },
  {
   "cell_type": "markdown",
   "id": "d82b645b-cdf4-4a72-84ab-2bcee0ca5a84",
   "metadata": {},
   "source": [
    "data['t_dim'] = data['time']"
   ]
  },
  {
   "cell_type": "code",
   "execution_count": null,
   "id": "0ca13f36-c5b1-4519-9354-53ea2269f8ba",
   "metadata": {},
   "outputs": [],
   "source": [
    "# Create a list of seasons and years\n",
    "seasons = [(3, 5), (6, 9), (10, 11), (12, 2)]\n",
    "data_years = list(data[f\"time.year\"].data)\n"
   ]
  },
  {
   "cell_type": "code",
   "execution_count": null,
   "id": "84b87ad8-8257-4b81-801d-c9bbf139cc82",
   "metadata": {},
   "outputs": [],
   "source": [
    "# Create a range of dates\n",
    "date_ranges = []\n",
    "for y in sorted(set(data_years)):\n",
    "    y = int(y)\n",
    "    for period in seasons:\n",
    "        start = period[0]\n",
    "        end = period[1]\n",
    "        begin_date = cftime.Datetime360Day(y, start, 1,0,0,0,0, has_year_zero=True)\n",
    "        if start > end:\n",
    "            end_date = cftime.Datetime360Day(y + 1, end, 30,0,0,0,0, has_year_zero=True)\n",
    "        else:\n",
    "            end_date = cftime.Datetime360Day(y, end, 30, 0,0,0,0, has_year_zero=True)\n",
    "        date_ranges.append((begin_date, end_date))"
   ]
  },
  {
   "cell_type": "markdown",
   "id": "64e5d00d-5e07-448b-8682-1882d58beb46",
   "metadata": {},
   "source": [
    "Separate and concat datasets by year periods"
   ]
  },
  {
   "cell_type": "code",
   "execution_count": null,
   "id": "63470dcf-21bf-4eba-8b57-74e4a18fd54c",
   "metadata": {},
   "outputs": [],
   "source": [
    "datasets = []\n",
    "year_index = []\n",
    "month_index = []\n",
    "for date_range in date_ranges:\n",
    "    sel_args = {f\"{time_dim}\": slice(date_range[0], date_range[1])}\n",
    "    filtered = data.sel(**sel_args)\n",
    "    datasets.append(filtered)\n",
    "    year_index = year_index + ([date_range[0].year] * filtered.sizes['t_dim'])\n",
    "    month_label = f\"{calendar.month_abbr[date_range[0].month]}-{calendar.month_abbr[date_range[1].month]}\"\n",
    "    month_index = month_index + ([month_label] * filtered.sizes['t_dim'])\n",
    "\n",
    "filtered = xr.concat(datasets, dim=time_dim)\n",
    "filtered = filtered.drop_vars('t_dim')"
   ]
  },
  {
   "cell_type": "code",
   "execution_count": null,
   "id": "d7472105-d46c-4300-9b44-3545d4878583",
   "metadata": {},
   "outputs": [],
   "source": [
    "period_idx = pd.MultiIndex.from_arrays([year_index, month_index], names=(\"year\", \"period\"))\n",
    "filtered.coords[\"year_period\"] = ('t_dim', period_idx)"
   ]
  },
  {
   "cell_type": "code",
   "execution_count": null,
   "id": "65e1dd27-41c9-4d87-bd5e-69b7c924233b",
   "metadata": {},
   "outputs": [],
   "source": [
    "clim_multiyear = xr.Dataset()\n",
    "for var_name, da in filtered.data_vars.items():\n",
    "    da_mean = da.groupby(\"year_period\").mean(dim=time_dim, skipna=True)\n",
    "    clim_multiyear[f\"{var_name}\"] = da_mean"
   ]
  },
  {
   "cell_type": "code",
   "execution_count": null,
   "id": "bc8535be-8427-4b6a-85cf-2f708b7ac846",
   "metadata": {},
   "outputs": [],
   "source": [
    "# Show the climatology multiyear\n",
    "clim_multiyear"
   ]
  },
  {
   "cell_type": "code",
   "execution_count": null,
   "id": "aa27baf3-ca9c-431e-aac2-ebc5601af1c1",
   "metadata": {},
   "outputs": [],
   "source": []
  }
 ],
 "metadata": {
  "kernelspec": {
   "display_name": "CANARI",
   "language": "python",
   "name": "canari"
  },
  "language_info": {
   "codemirror_mode": {
    "name": "ipython",
    "version": 3
   },
   "file_extension": ".py",
   "mimetype": "text/x-python",
   "name": "python",
   "nbconvert_exporter": "python",
   "pygments_lexer": "ipython3",
   "version": "3.10.12"
  }
 },
 "nbformat": 4,
 "nbformat_minor": 5
}
