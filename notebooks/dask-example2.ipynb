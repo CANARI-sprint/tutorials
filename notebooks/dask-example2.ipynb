{
 "cells": [
  {
   "cell_type": "markdown",
   "id": "33251c35-6c07-4e4a-8995-08fa5a82dcff",
   "metadata": {},
   "source": [
    "# Custom Workloads with Futures\n",
    "\n",
    "This tutorial has been copied from https://examples.dask.org/futures.html and adapted to work with JASMIN.\n",
    "\n",
    "Dask futures provide fine-grained real-time execution for custom situations. This is the foundation for other APIs like Dask arrays and dataframes.\n",
    "\n",
    "## Start Dask Client\n",
    "\n",
    "Unlike for arrays and dataframes, you need the Dask client to use the Futures interface. Additionally the client provides a dashboard which is useful to gain insight on the computation.\n",
    "\n",
    "The link to the dashboard will become visible when you create the client below. We recommend having it open on one side of your screen while using your notebook on the other side. This can take some effort to arrange your windows, but seeing them both at the same is very useful when learning."
   ]
  },
  {
   "cell_type": "code",
   "execution_count": null,
   "id": "9807e19b-63aa-4edb-b9be-cdd3f51a0553",
   "metadata": {},
   "outputs": [],
   "source": [
    "import dask_gateway\n",
    "\n",
    "# Create a connection to dask-gateway.\n",
    "gw = dask_gateway.Gateway(\"https://dask-gateway.jasmin.ac.uk\", auth=\"jupyterhub\")\n",
    "\n",
    "# Inspect and change the options if required before creating your cluster.\n",
    "options = gw.cluster_options()\n",
    "options.worker_cores = 1 #keeping this at 1 and allowing 15 workers seems to run faster than the other way around\n",
    "options.scheduler_cores = 1 #we need at least one core for the scheduler\n",
    "\n",
    "#specify which conda env to use\n",
    "#this must match the versions of python and dask (and a few other libraries) used on the notebook service\n",
    "#if you aren't using the default environment change the last argument to match your environment\n",
    "options.worker_setup='source /apps/jasmin/jaspy/mambaforge_envs/jaspy3.10/mf-22.11.1-4/bin/activate /gws/smf/j04/canari/dask-env'\n",
    "\n",
    "# Create a dask cluster, or, if one already exists, connect to it.\n",
    "# This stage creates the scheduler job in SLURM, so may take some time.\n",
    "# While your job queues.\n",
    "clusters = gw.list_clusters()\n",
    "if not clusters:\n",
    "    cluster = gw.new_cluster(options, shutdown_on_close=False)\n",
    "else:\n",
    "    cluster = gw.connect(clusters[0].name)\n",
    "\n",
    "# Create at least one worker, and allow your cluster to scale to 15.\n",
    "cluster.adapt(minimum=1, maximum=15)\n",
    "\n",
    "# Get a dask client.\n",
    "client = cluster.get_client()\n",
    "\n",
    "client"
   ]
  },
  {
   "cell_type": "markdown",
   "id": "294583f9-26e2-4a7d-8fb0-be53b930e892",
   "metadata": {},
   "source": [
    "## Create simple functions\n",
    "\n",
    "These functions do simple operations like add two numbers together, but they sleep for a random amount of time to simulate real work."
   ]
  },
  {
   "cell_type": "code",
   "execution_count": null,
   "id": "26fa2cca-87ff-40fb-967a-143c3dc5bce4",
   "metadata": {},
   "outputs": [],
   "source": [
    "import time\n",
    "import random\n",
    "\n",
    "def inc(x):\n",
    "    time.sleep(random.random())\n",
    "    return x + 1\n",
    "\n",
    "def double(x):\n",
    "    time.sleep(random.random())\n",
    "    return 2 * x\n",
    "\n",
    "def add(x, y):\n",
    "    time.sleep(random.random())\n",
    "    return x + y"
   ]
  },
  {
   "cell_type": "markdown",
   "id": "5e5378ef-240d-4c1d-90a7-b551068cc672",
   "metadata": {},
   "source": [
    "We can run them locally"
   ]
  },
  {
   "cell_type": "code",
   "execution_count": null,
   "id": "c84b5d03-086b-467c-8f2b-1e1b4dcebcd7",
   "metadata": {},
   "outputs": [],
   "source": [
    "inc(1)"
   ]
  },
  {
   "cell_type": "markdown",
   "id": "733aed98-df1f-4f96-9672-18d25a238361",
   "metadata": {},
   "source": [
    "Or we can submit them to run remotely with Dask. This immediately returns a future that points to the ongoing computation, and eventually to the stored result."
   ]
  },
  {
   "cell_type": "code",
   "execution_count": null,
   "id": "3b6f5c6a-b0ca-4a1a-8151-3f26e62a9ef7",
   "metadata": {},
   "outputs": [],
   "source": [
    "future = client.submit(inc, 1)  # returns immediately with pending future\n",
    "future\n",
    "\n"
   ]
  },
  {
   "cell_type": "markdown",
   "id": "6ad9125b-a525-461c-8e75-1ebaca7a6fe0",
   "metadata": {},
   "source": [
    "If you wait a second, and then check on the future again, you’ll see that it has finished."
   ]
  },
  {
   "cell_type": "code",
   "execution_count": null,
   "id": "e2455065-b873-4348-b26e-d2a4d26cc78e",
   "metadata": {},
   "outputs": [],
   "source": [
    "future"
   ]
  },
  {
   "cell_type": "markdown",
   "id": "fcfef5bb-0f4c-49be-a82e-ddab6599e716",
   "metadata": {},
   "source": [
    "You can block on the computation and gather the result with the .result() method."
   ]
  },
  {
   "cell_type": "code",
   "execution_count": null,
   "id": "3592d577-76f1-455a-a2ae-0cdd941147c3",
   "metadata": {},
   "outputs": [],
   "source": [
    "future.result()"
   ]
  },
  {
   "cell_type": "markdown",
   "id": "21891290-51b0-4102-be6e-ead5bbde76e9",
   "metadata": {},
   "source": [
    "## Chain dependencies\n",
    "\n",
    "You can submit tasks on other futures. This will create a dependency between the inputs and outputs. Dask will track the execution of all tasks, ensuring that downstream tasks are run at the proper time and place and with the proper data.\n",
    "\n",
    "Note that we never block on x or y nor do we ever have to move their data back to our notebook"
   ]
  },
  {
   "cell_type": "code",
   "execution_count": null,
   "id": "9d753261-23aa-4a97-b05b-cfe0e8607f8a",
   "metadata": {},
   "outputs": [],
   "source": [
    "x = client.submit(inc, 1)\n",
    "y = client.submit(double, 2)\n",
    "z = client.submit(add, x, y)\n",
    "z\n",
    "\n"
   ]
  },
  {
   "cell_type": "code",
   "execution_count": null,
   "id": "81a6d3f4-43c4-4ebc-9918-e5c6575d42d0",
   "metadata": {},
   "outputs": [],
   "source": [
    "z.result()"
   ]
  },
  {
   "cell_type": "markdown",
   "id": "d21ae88b-3118-41f3-82c5-b63cd8aff0fc",
   "metadata": {},
   "source": [
    "## Submit many tasks\n",
    "\n",
    "So we’ve learned how to run Python functions remotely. This becomes useful when we add two things:\n",
    "* We can submit thousands of tasks per second\n",
    "* Tasks can depend on each other by consuming futures as inputs\n",
    "\n",
    "We submit many tasks that depend on each other in a normal Python for loop"
   ]
  },
  {
   "cell_type": "code",
   "execution_count": null,
   "id": "c42aa570-e557-4bdd-a427-a819309f1c98",
   "metadata": {},
   "outputs": [],
   "source": [
    "%%time\n",
    "zs = []\n",
    "for i in range(256):\n",
    "    x = client.submit(inc, i)     # x = inc(i)\n",
    "    y = client.submit(double, x)  # y = inc(x)\n",
    "    z = client.submit(add, x, y)  # z = inc(y)\n",
    "    zs.append(z)"
   ]
  },
  {
   "cell_type": "code",
   "execution_count": null,
   "id": "63276538-7bcf-48d2-b2c8-c4c8b5d4e448",
   "metadata": {},
   "outputs": [],
   "source": [
    "total = client.submit(sum, zs)"
   ]
  },
  {
   "cell_type": "code",
   "execution_count": null,
   "id": "81d653f8-9335-4d40-887b-689e7e592c74",
   "metadata": {},
   "outputs": [],
   "source": [
    "client.cluster.scale(15)  # ask for 15 1-thread workers"
   ]
  },
  {
   "cell_type": "markdown",
   "id": "dfa3e5e1-2391-4a25-a746-730fc7f589c7",
   "metadata": {},
   "source": [
    "## Custom computation: Tree summation\n",
    "\n",
    "As an example of a non-trivial algorithm, consider the classic tree reduction. We accomplish this with a nested for loop and a bit of normal Python logic.\n",
    "\n",
    "If you’re watching the dashboard’s status page then you may want to note two things:\n",
    "\n",
    "* The red bars are for inter-worker communication. They happen as different workers need to combine their intermediate values\n",
    "* There is lots of parallelism at the beginning but less towards the end as we reach the top of the tree where there is less work to do.\n",
    "\n",
    "Alternatively you may want to navigate to the dashboard’s graph page and then run the cell above again. You will be able to see the task graph evolve during the computation."
   ]
  },
  {
   "cell_type": "code",
   "execution_count": null,
   "id": "d3a4c5bf-d930-4a77-861b-638bee6da4ec",
   "metadata": {},
   "outputs": [],
   "source": [
    "L = zs\n",
    "while len(L) > 1:\n",
    "    new_L = []\n",
    "    for i in range(0, len(L), 2):\n",
    "        future = client.submit(add, L[i], L[i + 1])  # add neighbors\n",
    "        new_L.append(future)\n",
    "    L = new_L  "
   ]
  },
  {
   "cell_type": "markdown",
   "id": "3c3f5a21-6b02-466b-a3c4-54026a59d266",
   "metadata": {},
   "source": [
    "## Building a computation dynamically\n",
    "\n",
    "In the examples above we explicitly specify the task graph ahead of time. We know for example that the first two futures in the list L will be added together.\n",
    "\n",
    "Sometimes this isn’t always best though, sometimes you want to dynamically define a computation as it is happening. For example we might want to sum up these values based on whichever futures show up first, rather than the order in which they were placed in the list to start with.\n",
    "\n",
    "For this, we can use operations like as_completed.\n",
    "\n",
    "We recommend watching the dashboard’s graph page when running this computation. You should see the graph construct itself during execution."
   ]
  },
  {
   "cell_type": "code",
   "execution_count": null,
   "id": "43d6cbce-5f93-4a45-b583-a4641f42a025",
   "metadata": {},
   "outputs": [],
   "source": [
    "del future, L, new_L, total  # clear out some old work\n",
    "\n",
    "from dask.distributed import as_completed\n",
    "\n",
    "zs = client.map(inc, zs)\n",
    "seq = as_completed(zs)\n",
    "\n",
    "while seq.count() > 1:  # at least two futures left\n",
    "    a = next(seq)\n",
    "    b = next(seq)\n",
    "    new = client.submit(add, a, b, priority=1)  # add them together\n",
    "    seq.add(new)                                # add new future back into loop\n",
    "\n"
   ]
  },
  {
   "cell_type": "code",
   "execution_count": null,
   "id": "5d6bf075-232b-4c94-b8bd-546f783c0eb9",
   "metadata": {},
   "outputs": [],
   "source": [
    "cluster.shutdown()"
   ]
  },
  {
   "cell_type": "code",
   "execution_count": null,
   "id": "a126ab2a-eaf0-45e2-bcfa-7fd2e42d5d7f",
   "metadata": {},
   "outputs": [],
   "source": []
  }
 ],
 "metadata": {
  "kernelspec": {
   "display_name": "CANARI-dask",
   "language": "python",
   "name": "canari-dask"
  },
  "language_info": {
   "codemirror_mode": {
    "name": "ipython",
    "version": 3
   },
   "file_extension": ".py",
   "mimetype": "text/x-python",
   "name": "python",
   "nbconvert_exporter": "python",
   "pygments_lexer": "ipython3",
   "version": "3.10.12"
  }
 },
 "nbformat": 4,
 "nbformat_minor": 5
}
