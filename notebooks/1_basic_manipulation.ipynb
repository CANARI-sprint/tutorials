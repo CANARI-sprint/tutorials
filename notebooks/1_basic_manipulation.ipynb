{
 "cells": [
  {
   "cell_type": "markdown",
   "id": "46232311-dbd3-4470-9280-512008410b6f",
   "metadata": {},
   "source": [
    "# Basic Manipulation of Data"
   ]
  },
  {
   "cell_type": "markdown",
   "id": "dbdab60c-42ab-4e43-91d0-2863707954e7",
   "metadata": {},
   "source": [
    "An example of basics manipulation of data using the COAsT package.\n",
    "\n",
    "This is an introduction to the Gridded class. Loading variables and grid information. This is designed to be a brief introduction to the Gridded class including:\n",
    "\n",
    "    1. Creation of a Gridded object\n",
    "    2. Loading data into the Gridded object.\n",
    "    3. Combining Gridded output and Gridded domain data.\n",
    "    4. Interrogating the Gridded object.\n",
    "    5. Basic manipulation and subsetting\n",
    "    6. Looking at the data with matplotlib"
   ]
  },
  {
   "cell_type": "markdown",
   "id": "8bbb3783-1ec8-41e8-b41d-b8131b2447ce",
   "metadata": {},
   "source": [
    "### Loading and Interrogating\n",
    "\n",
    "Begin by importing COAsT and define some file paths for NEMO output data and a NEMO domain, as an example of model data suitable for the Gridded object."
   ]
  },
  {
   "cell_type": "code",
   "execution_count": 1,
   "id": "5c2ac499-7721-4fee-9102-7f644cfab8b8",
   "metadata": {},
   "outputs": [],
   "source": [
    "import warnings \n",
    "warnings.filterwarnings('ignore')"
   ]
  },
  {
   "cell_type": "code",
   "execution_count": 2,
   "id": "68558239-414f-4b9b-bb8f-83774f3588b9",
   "metadata": {},
   "outputs": [
    {
     "name": "stderr",
     "output_type": "stream",
     "text": [
      "/gws/smf/j04/canari/conda-env/lib/python3.10/site-packages/pydap/lib.py:5: DeprecationWarning: pkg_resources is deprecated as an API. See https://setuptools.pypa.io/en/latest/pkg_resources.html\n",
      "/gws/smf/j04/canari/conda-env/lib/python3.10/site-packages/pkg_resources/__init__.py:2846: DeprecationWarning: Deprecated call to `pkg_resources.declare_namespace('pydap')`.\n",
      "Implementing implicit namespace packages (as specified in PEP 420) is preferred to `pkg_resources.declare_namespace`. See https://setuptools.pypa.io/en/latest/references/keywords.html#keyword-namespace-packages\n",
      "/gws/smf/j04/canari/conda-env/lib/python3.10/site-packages/pkg_resources/__init__.py:2846: DeprecationWarning: Deprecated call to `pkg_resources.declare_namespace('pydap.responses')`.\n",
      "Implementing implicit namespace packages (as specified in PEP 420) is preferred to `pkg_resources.declare_namespace`. See https://setuptools.pypa.io/en/latest/references/keywords.html#keyword-namespace-packages\n",
      "/gws/smf/j04/canari/conda-env/lib/python3.10/site-packages/pkg_resources/__init__.py:2331: DeprecationWarning: Deprecated call to `pkg_resources.declare_namespace('pydap')`.\n",
      "Implementing implicit namespace packages (as specified in PEP 420) is preferred to `pkg_resources.declare_namespace`. See https://setuptools.pypa.io/en/latest/references/keywords.html#keyword-namespace-packages\n",
      "/gws/smf/j04/canari/conda-env/lib/python3.10/site-packages/pkg_resources/__init__.py:2846: DeprecationWarning: Deprecated call to `pkg_resources.declare_namespace('pydap.handlers')`.\n",
      "Implementing implicit namespace packages (as specified in PEP 420) is preferred to `pkg_resources.declare_namespace`. See https://setuptools.pypa.io/en/latest/references/keywords.html#keyword-namespace-packages\n",
      "/gws/smf/j04/canari/conda-env/lib/python3.10/site-packages/pkg_resources/__init__.py:2331: DeprecationWarning: Deprecated call to `pkg_resources.declare_namespace('pydap')`.\n",
      "Implementing implicit namespace packages (as specified in PEP 420) is preferred to `pkg_resources.declare_namespace`. See https://setuptools.pypa.io/en/latest/references/keywords.html#keyword-namespace-packages\n",
      "/gws/smf/j04/canari/conda-env/lib/python3.10/site-packages/pkg_resources/__init__.py:2846: DeprecationWarning: Deprecated call to `pkg_resources.declare_namespace('pydap.tests')`.\n",
      "Implementing implicit namespace packages (as specified in PEP 420) is preferred to `pkg_resources.declare_namespace`. See https://setuptools.pypa.io/en/latest/references/keywords.html#keyword-namespace-packages\n",
      "/gws/smf/j04/canari/conda-env/lib/python3.10/site-packages/pkg_resources/__init__.py:2331: DeprecationWarning: Deprecated call to `pkg_resources.declare_namespace('pydap')`.\n",
      "Implementing implicit namespace packages (as specified in PEP 420) is preferred to `pkg_resources.declare_namespace`. See https://setuptools.pypa.io/en/latest/references/keywords.html#keyword-namespace-packages\n"
     ]
    }
   ],
   "source": [
    "import coast\n",
    "import matplotlib.pyplot as plt\n",
    "import datetime\n",
    "import numpy as np\n",
    "\n",
    "fn_nemo_dat = \"/gws/nopw/j04/canari/shared/large-ensemble/priority/HIST2/1/OCN/yearly/1950\"\n",
    "fn_nemo_dom = \"/gws/nopw/j04/canari/users/dlrhodso/mesh_mask.nc\"\n",
    "fn_config_t_grid = \"../../config/example_nemo_grid_t.json\""
   ]
  },
  {
   "cell_type": "markdown",
   "id": "07213913-07ce-4368-b5ab-909c5b5e18b1",
   "metadata": {},
   "source": [
    "We can create a new Gridded object by simple calling `coast.Gridded()`. By passing this a NEMO data file and a NEMO domain file, COAsT will combine the two into a single xarray dataset within the Gridded object. Each individual Gridded object should be for a specified NEMO grid type, which is specified in a configuration file which is also passed as an argument. The Dask library is switched on by default, chunking can be specified in the configuration file."
   ]
  },
  {
   "cell_type": "code",
   "execution_count": 3,
   "id": "eeaa0ede-80e1-4041-8b17-58220b3c47b6",
   "metadata": {},
   "outputs": [
    {
     "ename": "AttributeError",
     "evalue": "'Gridded' object has no attribute 'config'",
     "output_type": "error",
     "traceback": [
      "\u001b[0;31m---------------------------------------------------------------------------\u001b[0m",
      "\u001b[0;31mAttributeError\u001b[0m                            Traceback (most recent call last)",
      "Cell \u001b[0;32mIn[3], line 1\u001b[0m\n\u001b[0;32m----> 1\u001b[0m nemo_t \u001b[38;5;241m=\u001b[39m \u001b[43mcoast\u001b[49m\u001b[38;5;241;43m.\u001b[39;49m\u001b[43mGridded\u001b[49m\u001b[43m(\u001b[49m\u001b[43mfn_data\u001b[49m\u001b[43m \u001b[49m\u001b[38;5;241;43m=\u001b[39;49m\u001b[43m \u001b[49m\u001b[38;5;124;43mf\u001b[39;49m\u001b[38;5;124;43m\"\u001b[39;49m\u001b[38;5;132;43;01m{\u001b[39;49;00m\u001b[43mfn_nemo_dat\u001b[49m\u001b[38;5;132;43;01m}\u001b[39;49;00m\u001b[38;5;124;43m/cv575o_1_mon__grid_T_sossheig.nc\u001b[39;49m\u001b[38;5;124;43m\"\u001b[39;49m\u001b[43m,\u001b[49m\u001b[43m \u001b[49m\u001b[43mfn_domain\u001b[49m\u001b[43m \u001b[49m\u001b[38;5;241;43m=\u001b[39;49m\u001b[43m \u001b[49m\u001b[43mfn_nemo_dom\u001b[49m\u001b[43m,\u001b[49m\u001b[43m \u001b[49m\u001b[43mconfig\u001b[49m\u001b[38;5;241;43m=\u001b[39;49m\u001b[43mfn_config_t_grid\u001b[49m\u001b[43m)\u001b[49m\n",
      "File \u001b[0;32m/gws/smf/j04/canari/conda-env/lib/python3.10/site-packages/coast/data/gridded.py:60\u001b[0m, in \u001b[0;36mGridded.__init__\u001b[0;34m(self, fn_data, fn_domain, multiple, config, workers, threads, memory_limit_per_worker, **kwargs)\u001b[0m\n\u001b[1;32m     58\u001b[0m \u001b[38;5;28;01mif\u001b[39;00m \u001b[38;5;28mself\u001b[39m\u001b[38;5;241m.\u001b[39mfn_domain \u001b[38;5;129;01mis\u001b[39;00m \u001b[38;5;129;01mnot\u001b[39;00m \u001b[38;5;28;01mNone\u001b[39;00m:\n\u001b[1;32m     59\u001b[0m     \u001b[38;5;28mself\u001b[39m\u001b[38;5;241m.\u001b[39mfilename_domain \u001b[38;5;241m=\u001b[39m \u001b[38;5;28mself\u001b[39m\u001b[38;5;241m.\u001b[39mfn_domain\n\u001b[0;32m---> 60\u001b[0m     dataset_domain \u001b[38;5;241m=\u001b[39m \u001b[38;5;28;43mself\u001b[39;49m\u001b[38;5;241;43m.\u001b[39;49m\u001b[43mload_domain\u001b[49m\u001b[43m(\u001b[49m\u001b[38;5;28;43mself\u001b[39;49m\u001b[38;5;241;43m.\u001b[39;49m\u001b[43mfn_domain\u001b[49m\u001b[43m,\u001b[49m\u001b[43m \u001b[49m\u001b[38;5;28;43;01mNone\u001b[39;49;00m\u001b[43m)\u001b[49m\n\u001b[1;32m     61\u001b[0m     \u001b[38;5;28mself\u001b[39m\u001b[38;5;241m.\u001b[39mdataset[\u001b[38;5;124m\"\u001b[39m\u001b[38;5;124mdomain\u001b[39m\u001b[38;5;124m\"\u001b[39m] \u001b[38;5;241m=\u001b[39m dataset_domain\n",
      "File \u001b[0;32m/gws/smf/j04/canari/conda-env/lib/python3.10/site-packages/coast/data/gridded.py:145\u001b[0m, in \u001b[0;36mGridded.load_domain\u001b[0;34m(self, fn_domain, chunks)\u001b[0m\n\u001b[1;32m    143\u001b[0m \u001b[38;5;28mself\u001b[39m\u001b[38;5;241m.\u001b[39mdomain_loaded \u001b[38;5;241m=\u001b[39m \u001b[38;5;28;01mTrue\u001b[39;00m\n\u001b[1;32m    144\u001b[0m \u001b[38;5;66;03m# Rename dimensions\u001b[39;00m\n\u001b[0;32m--> 145\u001b[0m \u001b[38;5;28;01mfor\u001b[39;00m key, value \u001b[38;5;129;01min\u001b[39;00m \u001b[38;5;28;43mself\u001b[39;49m\u001b[38;5;241;43m.\u001b[39;49m\u001b[43mconfig\u001b[49m\u001b[38;5;241m.\u001b[39mdomain\u001b[38;5;241m.\u001b[39mdimension_map\u001b[38;5;241m.\u001b[39mitems():\n\u001b[1;32m    146\u001b[0m     mapping \u001b[38;5;241m=\u001b[39m {key: value}\n\u001b[1;32m    147\u001b[0m     \u001b[38;5;28;01mtry\u001b[39;00m:\n",
      "\u001b[0;31mAttributeError\u001b[0m: 'Gridded' object has no attribute 'config'"
     ]
    }
   ],
   "source": [
    "nemo_t = coast.Gridded(fn_data = f\"{fn_nemo_dat}/cv575o_1_mon__grid_T_sossheig.nc\", fn_domain = fn_nemo_dom, config=fn_config_t_grid)"
   ]
  },
  {
   "cell_type": "markdown",
   "id": "35326197-29b8-4754-88e6-7ee74f718b25",
   "metadata": {},
   "source": [
    "Our new Gridded object `nemo_t` contains a variable called dataset, which holds information on the two files we passed. Let’s have a look at this:"
   ]
  },
  {
   "cell_type": "code",
   "execution_count": null,
   "id": "bf897487-a437-4a82-811f-55575fcf00bd",
   "metadata": {},
   "outputs": [],
   "source": [
    "nemo_t.dataset"
   ]
  },
  {
   "cell_type": "markdown",
   "id": "f3677bbb-f239-4551-9899-c44dbdc806d5",
   "metadata": {},
   "source": [
    "This is an xarray dataset, which has all the information on netCDF style structures. You can see dimensions, coordinates and data variables. At the moment, none of the actual data is loaded to memory and will remain that way until it needs to be accessed.\n",
    "\n",
    "Along with temperature (which has been renamed from votemper) a number of other things have happen under the hood:\n",
    "\n",
    "1. The dimensions have been renamed to `t_dim`, `x_dim`, `y_dim`, `z_dim`\n",
    "2. The coordinates have been renamed to `time`, `longitude`, `latitude` and `depth_0`. These are the coordinates for this grid (the t-grid). Also `depth_0` has been calculated as the 3D depth array at time zero.\n",
    "3. The variables `e1`, `e2` and `e3_0` have been created. These are the metrics for the t-grid in the x-dim, y-dim and z_dim (at time zero) directions.\n",
    "\n",
    "So we see that the Gridded class has standardised some variable names and created an object based on this discretisation grid by combining the appropriate grid information with all the variables on that grid.\n",
    "\n",
    "We can interact with this as an xarray Dataset object. So to extract a specific variable (say temperature):"
   ]
  },
  {
   "cell_type": "code",
   "execution_count": null,
   "id": "15de9a24-6442-4e15-9bae-68d6a630a0aa",
   "metadata": {},
   "outputs": [],
   "source": [
    "ssh = nemo_t.dataset.ssh\n",
    "#ssh # uncomment to print data object summary"
   ]
  },
  {
   "cell_type": "markdown",
   "id": "7848d67a-33fc-4eb3-9f2c-699515e6f00a",
   "metadata": {},
   "source": [
    "Or as a numpy array:"
   ]
  },
  {
   "cell_type": "code",
   "execution_count": null,
   "id": "95022761-d125-4d1b-944d-5af1012b9443",
   "metadata": {},
   "outputs": [],
   "source": [
    "ssh_np = ssh.values\n",
    "#ssh_np.shape # uncomment to print data object summary"
   ]
  },
  {
   "cell_type": "markdown",
   "id": "d1030e82-90bb-4d64-9971-dbafec4afc15",
   "metadata": {},
   "source": [
    "Then lets plot up a single time snapshot of ssh using matplotlib:"
   ]
  },
  {
   "cell_type": "code",
   "execution_count": null,
   "id": "4f976d26-99c9-43ca-a20f-afb130c113fa",
   "metadata": {},
   "outputs": [],
   "source": [
    "plt.pcolormesh(nemo_t.dataset.longitude, nemo_t.dataset.latitude, nemo_t.dataset.ssh[0])"
   ]
  },
  {
   "cell_type": "markdown",
   "id": "352590af-6010-40da-9c48-3f25df8f0c66",
   "metadata": {},
   "source": [
    "### Some Manipulation\n",
    "\n",
    "There are currently some basic subsetting routines for Gridded objects, to cut out specified regions of data. Fundamentally, this can be done using xarray’s isel or sel routines to index the data. In this case, the Gridded object will pass arguments straight through to `xarray.isel`.\n",
    "\n",
    "Lets get the indices of all model points within 111km km of (5W, 55N):"
   ]
  },
  {
   "cell_type": "code",
   "execution_count": null,
   "id": "ba222ad6-b3a4-4430-84c2-b75f036352d7",
   "metadata": {},
   "outputs": [],
   "source": [
    "ind_y, ind_x = nemo_t.subset_indices_by_distance(centre_lon=-20, centre_lat=55, radius=500)\n",
    "#ind_x.shape # uncomment to print data object summary"
   ]
  },
  {
   "cell_type": "markdown",
   "id": "57b77be1-b0d6-48b9-81b8-44e5c7a47a2a",
   "metadata": {},
   "source": [
    "Now create a new, smaller subsetted Gridded object by passing those indices to `isel`."
   ]
  },
  {
   "cell_type": "code",
   "execution_count": null,
   "id": "8688d4b8-25f9-49ef-a45a-4b5a878df69d",
   "metadata": {},
   "outputs": [],
   "source": [
    "ind_y, ind_x = nemo_t.subset_indices_by_distance(centre_lon=-20, centre_lat=55, radius=500)\n",
    "nemo_t_subset = nemo_t.isel(x_dim=ind_x)\n",
    "nemo_t_subset.dataset = nemo_t_subset.dataset.rename({'dim_0': 'x_dim'})\n",
    "nemo_t_subset = nemo_t_subset.isel(y_dim=ind_y)\n",
    "nemo_t_subset.dataset = nemo_t_subset.dataset.rename({'dim_0': 'y_dim'})"
   ]
  },
  {
   "cell_type": "markdown",
   "id": "66cbac0e-77cf-432b-be42-e450c23aafbf",
   "metadata": {},
   "source": [
    "Alternatively, xarray.isel can be applied directly to the `xarray.Dataset` object.\n",
    "A longitude/latitude box of data can also be extracted using `Gridded.subset_indices()`."
   ]
  },
  {
   "cell_type": "code",
   "execution_count": null,
   "id": "14ebd567-c115-4df5-88c8-08757585dc3c",
   "metadata": {},
   "outputs": [],
   "source": [
    "nemo_t_subset.dataset"
   ]
  },
  {
   "cell_type": "code",
   "execution_count": null,
   "id": "9deba13d-a0fd-48b0-9f4b-538c57fb940e",
   "metadata": {},
   "outputs": [],
   "source": [
    "plt.pcolormesh(nemo_t_subset.dataset.longitude, nemo_t_subset.dataset.latitude, nemo_t_subset.dataset.ssh[0])"
   ]
  },
  {
   "cell_type": "code",
   "execution_count": null,
   "id": "ec225db2",
   "metadata": {},
   "outputs": [],
   "source": []
  }
 ],
 "metadata": {
  "kernelspec": {
   "display_name": "CANARI",
   "language": "python",
   "name": "canari"
  },
  "language_info": {
   "codemirror_mode": {
    "name": "ipython",
    "version": 3
   },
   "file_extension": ".py",
   "mimetype": "text/x-python",
   "name": "python",
   "nbconvert_exporter": "python",
   "pygments_lexer": "ipython3",
   "version": "3.10.12"
  }
 },
 "nbformat": 4,
 "nbformat_minor": 5
}
