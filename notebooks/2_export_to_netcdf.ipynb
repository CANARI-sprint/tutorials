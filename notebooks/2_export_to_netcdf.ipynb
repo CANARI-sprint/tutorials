{
 "cells": [
  {
   "cell_type": "markdown",
   "id": "3786d317-2abd-4403-a650-06b2419bea75",
   "metadata": {},
   "source": [
    "# Export to NETCDF"
   ]
  },
  {
   "cell_type": "markdown",
   "id": "c768e9ed-f08a-4a2c-8350-edfccdb769f2",
   "metadata": {},
   "source": [
    "This is a demonstration script for how to export your outputs to netCDF files for later analysis or storage.\n",
    "The tutorial showcases the xarray.to_netcdf() method.\n",
    "http://xarray.pydata.org/en/stable/generated/xarray.Dataset.to_netcdf.html"
   ]
  },
  {
   "cell_type": "markdown",
   "id": "77ecc2a5-e5c9-42e4-a602-3b7c1e0a0627",
   "metadata": {},
   "source": [
    "### Begin by importing COAsT and other packages"
   ]
  },
  {
   "cell_type": "code",
   "execution_count": 1,
   "id": "2e19cd81-cf32-4eba-b388-9c21c5cdf910",
   "metadata": {},
   "outputs": [
    {
     "name": "stderr",
     "output_type": "stream",
     "text": [
      "/home/users/jmecking001/.conda/envs/canari-sprint/lib/python3.10/site-packages/pydap/lib.py:5: DeprecationWarning: pkg_resources is deprecated as an API. See https://setuptools.pypa.io/en/latest/pkg_resources.html\n",
      "/home/users/jmecking001/.conda/envs/canari-sprint/lib/python3.10/site-packages/pkg_resources/__init__.py:2846: DeprecationWarning: Deprecated call to `pkg_resources.declare_namespace('pydap')`.\n",
      "Implementing implicit namespace packages (as specified in PEP 420) is preferred to `pkg_resources.declare_namespace`. See https://setuptools.pypa.io/en/latest/references/keywords.html#keyword-namespace-packages\n",
      "/home/users/jmecking001/.conda/envs/canari-sprint/lib/python3.10/site-packages/pkg_resources/__init__.py:2846: DeprecationWarning: Deprecated call to `pkg_resources.declare_namespace('pydap.responses')`.\n",
      "Implementing implicit namespace packages (as specified in PEP 420) is preferred to `pkg_resources.declare_namespace`. See https://setuptools.pypa.io/en/latest/references/keywords.html#keyword-namespace-packages\n",
      "/home/users/jmecking001/.conda/envs/canari-sprint/lib/python3.10/site-packages/pkg_resources/__init__.py:2331: DeprecationWarning: Deprecated call to `pkg_resources.declare_namespace('pydap')`.\n",
      "Implementing implicit namespace packages (as specified in PEP 420) is preferred to `pkg_resources.declare_namespace`. See https://setuptools.pypa.io/en/latest/references/keywords.html#keyword-namespace-packages\n",
      "/home/users/jmecking001/.conda/envs/canari-sprint/lib/python3.10/site-packages/pkg_resources/__init__.py:2846: DeprecationWarning: Deprecated call to `pkg_resources.declare_namespace('pydap.handlers')`.\n",
      "Implementing implicit namespace packages (as specified in PEP 420) is preferred to `pkg_resources.declare_namespace`. See https://setuptools.pypa.io/en/latest/references/keywords.html#keyword-namespace-packages\n",
      "/home/users/jmecking001/.conda/envs/canari-sprint/lib/python3.10/site-packages/pkg_resources/__init__.py:2331: DeprecationWarning: Deprecated call to `pkg_resources.declare_namespace('pydap')`.\n",
      "Implementing implicit namespace packages (as specified in PEP 420) is preferred to `pkg_resources.declare_namespace`. See https://setuptools.pypa.io/en/latest/references/keywords.html#keyword-namespace-packages\n",
      "/home/users/jmecking001/.conda/envs/canari-sprint/lib/python3.10/site-packages/pkg_resources/__init__.py:2846: DeprecationWarning: Deprecated call to `pkg_resources.declare_namespace('pydap.tests')`.\n",
      "Implementing implicit namespace packages (as specified in PEP 420) is preferred to `pkg_resources.declare_namespace`. See https://setuptools.pypa.io/en/latest/references/keywords.html#keyword-namespace-packages\n",
      "/home/users/jmecking001/.conda/envs/canari-sprint/lib/python3.10/site-packages/pkg_resources/__init__.py:2331: DeprecationWarning: Deprecated call to `pkg_resources.declare_namespace('pydap')`.\n",
      "Implementing implicit namespace packages (as specified in PEP 420) is preferred to `pkg_resources.declare_namespace`. See https://setuptools.pypa.io/en/latest/references/keywords.html#keyword-namespace-packages\n"
     ]
    }
   ],
   "source": [
    "import warnings \n",
    "warnings.filterwarnings('ignore')\n",
    "import coast\n",
    "import xarray as xr"
   ]
  },
  {
   "cell_type": "markdown",
   "id": "1bb07949-6ef9-45fd-a6a4-5773a928d7de",
   "metadata": {},
   "source": [
    "### Now define some file paths"
   ]
  },
  {
   "cell_type": "code",
   "execution_count": 2,
   "id": "0b7cc395-019b-4284-a200-a8eb6ac15838",
   "metadata": {},
   "outputs": [],
   "source": [
    "data_path = \"/gws/nopw/j04/canari/shared/large-ensemble/priority/HIST2/1/OCN/yearly/1950\"\n",
    "fn_nemo_grid_t = f\"{data_path}/cv575o_1_mon__grid_T_votemper.nc\"\n",
    "fn_nemo_dom = \"/gws/nopw/j04/canari/users/dlrhodso/mesh_mask.nc\"\n",
    "config_t = \"../../config/example_nemo_grid_t.json\"\n",
    "config_w = \"../../config/example_nemo_grid_w.json\""
   ]
  },
  {
   "cell_type": "markdown",
   "id": "613109e1-ae29-4c6b-b37b-55658a6cbe9a",
   "metadata": {},
   "source": [
    "### We need to load in a NEMO object for doing NEMO things"
   ]
  },
  {
   "cell_type": "code",
   "execution_count": 3,
   "id": "383fb968-3b9d-4e89-809a-a85f85e12457",
   "metadata": {},
   "outputs": [
    {
     "ename": "AttributeError",
     "evalue": "'Gridded' object has no attribute 'config'",
     "output_type": "error",
     "traceback": [
      "\u001b[0;31m---------------------------------------------------------------------------\u001b[0m",
      "\u001b[0;31mAttributeError\u001b[0m                            Traceback (most recent call last)",
      "Cell \u001b[0;32mIn[3], line 2\u001b[0m\n\u001b[1;32m      1\u001b[0m fn_nemo_dat \u001b[38;5;241m=\u001b[39m xr\u001b[38;5;241m.\u001b[39mopen_mfdataset(fn_nemo_grid_t)\n\u001b[0;32m----> 2\u001b[0m nemo \u001b[38;5;241m=\u001b[39m \u001b[43mcoast\u001b[49m\u001b[38;5;241;43m.\u001b[39;49m\u001b[43mGridded\u001b[49m\u001b[43m(\u001b[49m\u001b[43mfn_data\u001b[49m\u001b[38;5;241;43m=\u001b[39;49m\u001b[43mfn_nemo_dat\u001b[49m\u001b[43m,\u001b[49m\n\u001b[1;32m      3\u001b[0m \u001b[43m                          \u001b[49m\u001b[43mfn_domain\u001b[49m\u001b[38;5;241;43m=\u001b[39;49m\u001b[43mfn_nemo_dom\u001b[49m\u001b[43m,\u001b[49m\n\u001b[1;32m      4\u001b[0m \u001b[43m                          \u001b[49m\u001b[43mconfig\u001b[49m\u001b[38;5;241;43m=\u001b[39;49m\u001b[43mconfig_t\u001b[49m\u001b[43m,\u001b[49m\n\u001b[1;32m      5\u001b[0m \u001b[43m                          \u001b[49m\u001b[43m)\u001b[49m\n",
      "File \u001b[0;32m~/.conda/envs/canari-sprint/lib/python3.10/site-packages/coast/data/gridded.py:60\u001b[0m, in \u001b[0;36mGridded.__init__\u001b[0;34m(self, fn_data, fn_domain, multiple, config, workers, threads, memory_limit_per_worker, **kwargs)\u001b[0m\n\u001b[1;32m     58\u001b[0m \u001b[38;5;28;01mif\u001b[39;00m \u001b[38;5;28mself\u001b[39m\u001b[38;5;241m.\u001b[39mfn_domain \u001b[38;5;129;01mis\u001b[39;00m \u001b[38;5;129;01mnot\u001b[39;00m \u001b[38;5;28;01mNone\u001b[39;00m:\n\u001b[1;32m     59\u001b[0m     \u001b[38;5;28mself\u001b[39m\u001b[38;5;241m.\u001b[39mfilename_domain \u001b[38;5;241m=\u001b[39m \u001b[38;5;28mself\u001b[39m\u001b[38;5;241m.\u001b[39mfn_domain\n\u001b[0;32m---> 60\u001b[0m     dataset_domain \u001b[38;5;241m=\u001b[39m \u001b[38;5;28;43mself\u001b[39;49m\u001b[38;5;241;43m.\u001b[39;49m\u001b[43mload_domain\u001b[49m\u001b[43m(\u001b[49m\u001b[38;5;28;43mself\u001b[39;49m\u001b[38;5;241;43m.\u001b[39;49m\u001b[43mfn_domain\u001b[49m\u001b[43m,\u001b[49m\u001b[43m \u001b[49m\u001b[38;5;28;43;01mNone\u001b[39;49;00m\u001b[43m)\u001b[49m\n\u001b[1;32m     61\u001b[0m     \u001b[38;5;28mself\u001b[39m\u001b[38;5;241m.\u001b[39mdataset[\u001b[38;5;124m\"\u001b[39m\u001b[38;5;124mdomain\u001b[39m\u001b[38;5;124m\"\u001b[39m] \u001b[38;5;241m=\u001b[39m dataset_domain\n",
      "File \u001b[0;32m~/.conda/envs/canari-sprint/lib/python3.10/site-packages/coast/data/gridded.py:145\u001b[0m, in \u001b[0;36mGridded.load_domain\u001b[0;34m(self, fn_domain, chunks)\u001b[0m\n\u001b[1;32m    143\u001b[0m \u001b[38;5;28mself\u001b[39m\u001b[38;5;241m.\u001b[39mdomain_loaded \u001b[38;5;241m=\u001b[39m \u001b[38;5;28;01mTrue\u001b[39;00m\n\u001b[1;32m    144\u001b[0m \u001b[38;5;66;03m# Rename dimensions\u001b[39;00m\n\u001b[0;32m--> 145\u001b[0m \u001b[38;5;28;01mfor\u001b[39;00m key, value \u001b[38;5;129;01min\u001b[39;00m \u001b[38;5;28;43mself\u001b[39;49m\u001b[38;5;241;43m.\u001b[39;49m\u001b[43mconfig\u001b[49m\u001b[38;5;241m.\u001b[39mdomain\u001b[38;5;241m.\u001b[39mdimension_map\u001b[38;5;241m.\u001b[39mitems():\n\u001b[1;32m    146\u001b[0m     mapping \u001b[38;5;241m=\u001b[39m {key: value}\n\u001b[1;32m    147\u001b[0m     \u001b[38;5;28;01mtry\u001b[39;00m:\n",
      "\u001b[0;31mAttributeError\u001b[0m: 'Gridded' object has no attribute 'config'"
     ]
    }
   ],
   "source": [
    "fn_nemo_dat = xr.open_mfdataset(fn_nemo_grid_t)\n",
    "nemo = coast.Gridded(fn_data=fn_nemo_dat,\n",
    "                          fn_domain=fn_nemo_dom,\n",
    "                          config=config_t,\n",
    "                          )"
   ]
  },
  {
   "cell_type": "markdown",
   "id": "2068f540-6dad-4fb8-94d9-a0504ecbd6ad",
   "metadata": {
    "tags": []
   },
   "source": [
    "### We can export the whole xr.DataSet to a netCDF file\n",
    "Other file formats are available. From the documentation:\n",
    "   - NETCDF4: Data is stored in an HDF5 file, using netCDF4 API features.\n",
    "   - NETCDF4_CLASSIC: Data is stored in an HDF5 file, using only netCDF 3 compatible API features.\n",
    "   - NETCDF3_64BIT: 64-bit offset version of the netCDF 3 file format, which fully supports 2+ GB files, but is only compatible with clients linked against netCDF version 3.6.0 or later.\n",
    "   - NETCDF3_CLASSIC: The classic netCDF 3 file format. It does not handle 2+ GB files very well.\n",
    "\n",
    "Mode - 'w' (write) is the default. Other options from the documentation:\n",
    "\n",
    "   - mode ({\"w\", \"a\"}, default: \"w\") – Write (‘w’) or append (‘a’) mode.\n",
    "   - If mode=’w’, any existing file at this location will be overwritten.\n",
    "   - If mode=’a’, existing variables will be overwritten.\n",
    "   \n",
    "Similarly xr.DataSets collections of variables or xr.DataArray variables can be exported to netCDF for objects in the TRANSECT, TIDEGAUGE, etc classes."
   ]
  },
  {
   "cell_type": "code",
   "execution_count": null,
   "id": "1039d313-6238-49d8-827c-2a6187baf209",
   "metadata": {
    "tags": []
   },
   "outputs": [],
   "source": [
    "nemo.dataset.to_netcdf(\"example_export_output.nc\", mode=\"w\", format=\"NETCDF4\")"
   ]
  },
  {
   "cell_type": "markdown",
   "id": "104667be-a751-44d4-b556-c9ae8272f0f6",
   "metadata": {},
   "source": [
    "### Alternatively a single variable (an xr.DataArray object) can be exported"
   ]
  },
  {
   "cell_type": "code",
   "execution_count": null,
   "id": "96cff997-596e-4342-8d4b-3cee28299e99",
   "metadata": {},
   "outputs": [],
   "source": [
    "nemo.dataset[\"temperature\"].to_netcdf(\"example_export_output.nc\", format=\"NETCDF4\")"
   ]
  },
  {
   "cell_type": "markdown",
   "id": "9188307b-6d90-497d-abf2-72ac1a3c755f",
   "metadata": {},
   "source": [
    "### Check the exported file is as you expect\n",
    "Perhaps by using `ncdump -h example_export_output.nc`, or load the file and see that the xarray structure is preserved."
   ]
  },
  {
   "cell_type": "code",
   "execution_count": null,
   "id": "5caf7d31-c7a7-4f11-abfd-62e0d5658119",
   "metadata": {
    "pycharm": {
     "name": "#%%\n"
    }
   },
   "outputs": [],
   "source": [
    "object = xr.open_dataset(ofile)\n",
    "object.close()  # close file associated with this object"
   ]
  },
  {
   "cell_type": "code",
   "execution_count": null,
   "id": "87ba3b57",
   "metadata": {},
   "outputs": [],
   "source": []
  }
 ],
 "metadata": {
  "kernelspec": {
   "display_name": "canari-sprint",
   "language": "python",
   "name": "canari-sprint"
  },
  "language_info": {
   "codemirror_mode": {
    "name": "ipython",
    "version": 3
   },
   "file_extension": ".py",
   "mimetype": "text/x-python",
   "name": "python",
   "nbconvert_exporter": "python",
   "pygments_lexer": "ipython3",
   "version": "3.10.12"
  }
 },
 "nbformat": 4,
 "nbformat_minor": 5
}
