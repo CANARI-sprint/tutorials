{
 "cells": [
  {
   "cell_type": "markdown",
   "id": "5fbf83bf-cc35-4b4d-9450-a7ed5bf67c99",
   "metadata": {},
   "source": [
    "# Create a Slurm File to Lotus Queue"
   ]
  },
  {
   "cell_type": "markdown",
   "id": "66858b3b-5318-4c03-8679-c04fe5c6a787",
   "metadata": {},
   "source": [
    "This notebook makes a slurm file that can be submitted to the lotus queue to compute the profile in a specified box."
   ]
  },
  {
   "cell_type": "code",
   "execution_count": 1,
   "id": "3fbab008-ff17-4044-a1cc-f7309f4f744e",
   "metadata": {},
   "outputs": [],
   "source": [
    "import os\n",
    "import glob"
   ]
  },
  {
   "cell_type": "code",
   "execution_count": 2,
   "id": "878fb7bd-56c7-4f13-ad11-538634c7cfbe",
   "metadata": {},
   "outputs": [],
   "source": [
    "# Define box to compute:\n",
    "box_name = 'amv'\n",
    "var      = 'votemper'\n",
    "region   = 'atlmsk'\n",
    "imin     = '-75'\n",
    "imax     = '-7.5'\n",
    "jmin     = '0'\n",
    "jmax     = '60'\n",
    "\n",
    "# Make list of available ensemble members:\n",
    "datadir = '/gws/nopw/j04/canari/shared/large-ensemble/priority/HIST2/'\n",
    "outputs = glob.glob(datadir + '*')\n",
    "ENSs = []\n",
    "for output in outputs:\n",
    "    ENSs.append(output.split('/')[-1])"
   ]
  },
  {
   "cell_type": "code",
   "execution_count": 3,
   "id": "69e73baf-1f77-4ffe-8ff1-173d475b1e24",
   "metadata": {},
   "outputs": [],
   "source": [
    "# Make array of ensemble members and file names:\n",
    "ens      = ('(')\n",
    "outfiles = ('(')\n",
    "for ENS in ENSs:\n",
    "    if ens == '(':\n",
    "        ens      = (ens      + '\"'+ ENS + '\"')\n",
    "        outfiles = (outfiles + '\"'+ box_name + '_' + var + '_' + ENS + '.nc' + '\"')\n",
    "    else:\n",
    "        ens = (ens + ' \"' + ENS + '\"')\n",
    "        outfiles = (outfiles + ' \"'+ box_name + '_' + var + '_' + ENS + '.nc' + '\"')\n",
    "\n",
    "ns = len(ENSs)\n",
    "\n",
    "# Make slurm file:\n",
    "array_short = (box_name + '.slurm')\n",
    "line1 = '#!/bin/bash \\n'\n",
    "line2 = '#SBATCH --account=short4hr \\n'\n",
    "line3 = '#SBATCH -p short-serial-4hr \\n'\n",
    "line4 = '#SBATCH -o %J.out \\n'\n",
    "line5 = '#SBATCH -e %J.err \\n'\n",
    "line6 = '#SBATCH --time 1:00:00 \\n'\n",
    "line7 = '#SBATCH --mem=32000 \\n'\n",
    "line8 = ('#SBATCH --array=0-' + str(ns-1))\n",
    "line9 = '\\n'\n",
    "line10= 'ENS=' + ens      + ') \\n'\n",
    "line11= 'OUT=' + outfiles + ') \\n'\n",
    "line12= 'conda activate canari-sprint \\n'\n",
    "line13= ('python box_profile.py ' + ' ${ENS[$SLURM_ARRAY_TASK_ID]} ' + var + ' ' + region + ' ' + imin + ' ' + imax + ' ' + jmin + ' ' + jmax + ' ${OUT[$SLURM_ARRAY_TASK_ID]}')\n",
    "file = open(array_short,'w') \n",
    "file.writelines([line1, line2, line3, line4, line5, line6, line7, line8, line9, line10, line11, line12, line13])\n",
    "file.close()"
   ]
  },
  {
   "cell_type": "code",
   "execution_count": null,
   "id": "8e6cfbf5-251c-49b1-a4ca-6f0c15b3b44e",
   "metadata": {},
   "outputs": [],
   "source": []
  }
 ],
 "metadata": {
  "kernelspec": {
   "display_name": "canari-sprint",
   "language": "python",
   "name": "canari-sprint"
  },
  "language_info": {
   "codemirror_mode": {
    "name": "ipython",
    "version": 3
   },
   "file_extension": ".py",
   "mimetype": "text/x-python",
   "name": "python",
   "nbconvert_exporter": "python",
   "pygments_lexer": "ipython3",
   "version": "3.10.12"
  }
 },
 "nbformat": 4,
 "nbformat_minor": 5
}
