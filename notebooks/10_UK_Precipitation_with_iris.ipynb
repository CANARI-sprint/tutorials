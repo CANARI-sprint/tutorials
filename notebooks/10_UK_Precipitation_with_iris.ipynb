{
 "cells": [
  {
   "cell_type": "markdown",
   "id": "c24ad9a8-b636-49ff-ad4d-73c4f48fc972",
   "metadata": {},
   "source": [
    "# Notes\n",
    "\n",
    "This notebook works through an example using the iris module to load and plot UK winter mean precipitation from CANARI-LE historical data.\n",
    "\n",
    "Main iris webpage https://scitools.org.uk/iris/docs/latest\n",
    "\n",
    "There's a full documentation there, but it's definitely worth workinthrough the 'User Guide' section which explains a lot of the concepts.\n",
    "\n",
    "The four main iris objects are\n",
    "\n",
    "- `iris.cube.Cube` holds the data array for a single variable, along with metadata including the variable name, its units and its coordinates. The main building block of iris.\n",
    "- `iris.cube.CubeList` is like a list of Cubes, but with extra methods which let you process multiples cubes at once.\n",
    "- `iris.coords.DimCoord` and `iris.coords.AuxCoord` hold the data and metadata for cube coordinates. There's two types: a `DimCoord` must be a mononic 1-d array, whereas an `AuxCoord` can be multi-dimensional and/or non-monotonic.\n",
    "- `iris.Constraint` allow intelligent subsetting of a `Cube` or `Cubelist` without needing to use array indices etc.\n"
   ]
  },
  {
   "cell_type": "code",
   "execution_count": null,
   "id": "cd10c79e-5ad2-45f5-b68c-ba1dc609fc34",
   "metadata": {},
   "outputs": [],
   "source": [
    "import glob\n",
    "import warnings\n",
    "import numpy as np\n",
    "import datetime\n",
    "import iris\n",
    "import iris.coord_categorisation as icc\n",
    "import iris.quickplot as qplt\n",
    "import matplotlib.pyplot as plt"
   ]
  },
  {
   "cell_type": "code",
   "execution_count": null,
   "id": "903a388a-7a2d-4f80-9866-2ae4a86c63ac",
   "metadata": {},
   "outputs": [],
   "source": [
    "# First, define a function to load all the yearly files for a single member and merge them into a single cube.\n",
    "def load_hist_single(mem, varname, con=None, years=range(1950, 2015)):\n",
    "    \"\"\"\n",
    "    Load selected years for a single variable for a single historical member\n",
    "    and concatenate into a single cube.\n",
    "\n",
    "    Args\n",
    "    ----\n",
    "      mem (int): Ensemble member number.\n",
    "      varname (str): My shorthand variable names. Mapping to LE file names defined in varname_map below.\n",
    "      con (optional, iris.Constraint): Constraint to apply at load time.\n",
    "      years (optional, iterable): Years to load. Default is full historical period (1950-2014).\n",
    "    \"\"\"\n",
    "    varname_map = {'monthly_precip': 'mon_m01s05i216_3'}\n",
    "    ledir = '/gws/nopw/j04/canari/shared/large-ensemble'\n",
    "    fns = [glob.glob('{0}/priority/HIST2/{1}/ATM/yearly/{2}/??????_{1}_{3}.nc'.\\\n",
    "                     format(ledir, mem, year, varname_map[varname]))[0] for year in years]\n",
    "    print('Loading files:\\n{}'.format('\\n'.join(fns)))\n",
    "    \n",
    "    def _add_realization_coord(cube, field, filename):\n",
    "        # Callback function to add realization (i.e. ens member) AuxCoord at load time\n",
    "        # This is useful for merging members into a multi-dimensional cube later.\n",
    "        rco = iris.coords.DimCoord(int(cube.attributes['realization_index']),\n",
    "                                   long_name='realization_index')\n",
    "        cube.add_aux_coord(rco)\n",
    "    \n",
    "    # Load data but hide UserWarning about cellarea\n",
    "    with warnings.catch_warnings():\n",
    "        warnings.filterwarnings(\"ignore\", category=UserWarning)\n",
    "        cl = iris.load(fns, con, callback=_add_realization_coord)\n",
    "\n",
    "    # Remove any attribute data that does not match between cubes, to allow concatenation\n",
    "    iris.util.equalise_attributes(cl)\n",
    "\n",
    "    # Return a single cube holding all the data\n",
    "    return cl.concatenate_cube()"
   ]
  },
  {
   "cell_type": "code",
   "execution_count": null,
   "id": "07e21783-c440-41e1-a83a-5141f4e25cb5",
   "metadata": {},
   "outputs": [],
   "source": [
    "# Next, load the monthly mean precipitation rate for member 1 only\n",
    "prmon = load_hist_single(1, 'monthly_precip')"
   ]
  },
  {
   "cell_type": "code",
   "execution_count": null,
   "id": "2c4d3aeb-c0b9-43d4-9cea-8bd602c0a078",
   "metadata": {},
   "outputs": [],
   "source": [
    "# Define a function to convert precip units to mm/day of liquid water equivalent\n",
    "def convert_pr_units(cube):\n",
    "    density_lw = iris.coords.DimCoord(1000.0, units='kg m-3')\n",
    "    name = cube.name()\n",
    "    cube = cube / density_lw\n",
    "    cube.convert_units('mm day-1')\n",
    "    cube.rename(name)\n",
    "    return cube"
   ]
  },
  {
   "cell_type": "code",
   "execution_count": null,
   "id": "1e2ef7c8-d627-4671-8853-b1f4f711a8e5",
   "metadata": {},
   "outputs": [],
   "source": [
    "prmon = convert_pr_units(prmon)"
   ]
  },
  {
   "cell_type": "code",
   "execution_count": null,
   "id": "529e5978-e93f-48d6-8f84-14afb37aa5bf",
   "metadata": {},
   "outputs": [],
   "source": [
    "# Define a function to use season and season_year auxiliary coords to compute means for each DJF season\n",
    "def calc_seas_mean(cube, season='djf'):\n",
    "    \n",
    "    # Add season and season_year AuxCoords if not already present\n",
    "    print('Computing {} mean of {}'.format(season, cube.name()))\n",
    "    conames = [co.name() for co in cube.coords()]\n",
    "    if 'season' not in conames: icc.add_season(cube, 'time')\n",
    "    if 'season_year' not in conames: icc.add_season_year(cube, 'time')\n",
    "        \n",
    "    # Extract only months in season and then take the mean for each season_year\n",
    "    cube_seas = cube.extract(iris.Constraint(season=season)).aggregated_by(['season', 'season_year'], iris.analysis.MEAN)\n",
    "    \n",
    "    # Remove any seasons less than 90 days (i.e the incomplete first and last for DJF)\n",
    "    tc = cube_seas.coord('time')\n",
    "    seaslens = np.array([tc.units.num2date(b[1]) - tc.units.num2date(b[0]) for b in tc.bounds])\n",
    "    bad_times = tc.units.num2date(tc.points[seaslens < datetime.timedelta(days=90)])\n",
    "    cube_seas_trim = cube_seas.extract(iris.Constraint(time=lambda t: t.point not in bad_times))\n",
    "    if len(tc.points) > len(cube_seas_trim.coord('time').points):\n",
    "        print('Trimming incomplete seasons:')\n",
    "        print(bad_times)\n",
    "    return cube_seas_trim"
   ]
  },
  {
   "cell_type": "code",
   "execution_count": null,
   "id": "e7b7ab4d-69d2-4b9b-90a7-3e46a1b9ac0e",
   "metadata": {},
   "outputs": [],
   "source": [
    "prdjf = calc_seas_mean(prmon, season='djf')"
   ]
  },
  {
   "cell_type": "code",
   "execution_count": null,
   "id": "7cbf6189-6061-4bb5-b46a-026feccabb6e",
   "metadata": {},
   "outputs": [],
   "source": [
    "# Subset to box around the UK\n",
    "pruk = prdjf.intersection(longitude=[-12, 3], latitude=[46, 61])"
   ]
  },
  {
   "cell_type": "code",
   "execution_count": null,
   "id": "c87391af-e3d8-4cb2-a5ee-9d3e7c6c1ef8",
   "metadata": {},
   "outputs": [],
   "source": [
    "# Plot climatology\n",
    "# Note: iris.quickplot contains useful functions for creating simple plots quickly (uses cube meta data to label etc)\n",
    "#       iris.plot allows more control\n",
    "# Both are built on matplotlib and cartopy.\n",
    "qplt.contourf(pruk.collapsed('time', iris.analysis.MEAN), levels=np.arange(0, 11), cmap='Blues')\n",
    "plt.gca().coastlines(color='0.5') # Add coastline\n",
    "qplt.points(pruk[0], s=1, c='k')  # Add model grid points for reference"
   ]
  },
  {
   "cell_type": "code",
   "execution_count": null,
   "id": "3dcb210e-c052-4dca-8c5e-ea52bfc63f76",
   "metadata": {},
   "outputs": [],
   "source": [
    "# Plot yearly timeseries for nearest grid point to London\n",
    "london_lon = 0.0\n",
    "london_lat = 51.5\n",
    "prlondon = pruk.interpolate([('longitude', london_lon), ('latitude', london_lat)], iris.analysis.Nearest())\n",
    "qplt.plot(prlondon)"
   ]
  },
  {
   "cell_type": "code",
   "execution_count": null,
   "id": "835acea2-7783-4e72-abf2-e14808a0ab25",
   "metadata": {},
   "outputs": [],
   "source": [
    "# Repeat for multiple members.\n",
    "# Apply area constraint at load time to reduce memory needed\n",
    "mems = [1, 2, 3, 4, 5]\n",
    "ukcon = iris.Constraint(longitude=lambda lon: lon>=350 or lon<=2, latitude=lambda lat: 50<=lat<=60)\n",
    "pr_cubes = iris.cube.CubeList([load_hist_single(mem, 'monthly_precip', con=ukcon, years=range(1950, 1971)) for mem in mems])"
   ]
  },
  {
   "cell_type": "code",
   "execution_count": null,
   "id": "fd18c2aa-2bb7-4c41-a653-f6ab9f4ae5a4",
   "metadata": {},
   "outputs": [],
   "source": [
    "# Merge into a single cube with realization_index as a new dimension\n",
    "iris.util.equalise_attributes(pr_cubes)\n",
    "prmon = pr_cubes.merge_cube()\n",
    "print(prmon)"
   ]
  },
  {
   "cell_type": "code",
   "execution_count": null,
   "id": "a2dd47fc-c548-431e-a6d4-c6d9b1d7dac1",
   "metadata": {},
   "outputs": [],
   "source": [
    "# Interpolate to nearest gridpoint to London, convert to mm/day and cmopute DJF means\n",
    "prlondon = prmon.interpolate([('longitude', london_lon), ('latitude', london_lat)], iris.analysis.Nearest())\n",
    "prlondon = convert_pr_units(prlondon)\n",
    "prlondon = calc_seas_mean(prlondon, season='djf')\n",
    "# Plot line plot for each member\n",
    "for prlondon_mem in prlondon.slices_over('realization_index'):\n",
    "    qplt.plot(prlondon_mem, label=prlondon_mem.coord('realization_index').points[0])\n",
    "plt.legend()"
   ]
  },
  {
   "cell_type": "code",
   "execution_count": null,
   "id": "fe51c355-8e5e-46b1-b40a-b398be45c32a",
   "metadata": {},
   "outputs": [],
   "source": []
  },
  {
   "cell_type": "code",
   "execution_count": null,
   "id": "9e2a972c-724b-4276-94d8-2ebca492d117",
   "metadata": {},
   "outputs": [],
   "source": []
  },
  {
   "cell_type": "code",
   "execution_count": null,
   "id": "bf6cdacb-1709-4bdd-9e23-7c7a062354c9",
   "metadata": {},
   "outputs": [],
   "source": []
  },
  {
   "cell_type": "code",
   "execution_count": null,
   "id": "a59d30e4-3e94-4bbf-833f-490ae534aa5d",
   "metadata": {},
   "outputs": [],
   "source": []
  },
  {
   "cell_type": "code",
   "execution_count": null,
   "id": "cedda089-f466-4074-823d-edb75ef70bb6",
   "metadata": {},
   "outputs": [],
   "source": []
  }
 ],
 "metadata": {
  "kernelspec": {
   "display_name": "CANARI",
   "language": "python",
   "name": "canari"
  },
  "language_info": {
   "codemirror_mode": {
    "name": "ipython",
    "version": 3
   },
   "file_extension": ".py",
   "mimetype": "text/x-python",
   "name": "python",
   "nbconvert_exporter": "python",
   "pygments_lexer": "ipython3",
   "version": "3.10.12"
  }
 },
 "nbformat": 4,
 "nbformat_minor": 5
}
