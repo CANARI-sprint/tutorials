{
 "cells": [
  {
   "cell_type": "markdown",
   "id": "87227162-80b9-4470-b4b3-63a4d8a5b52d",
   "metadata": {},
   "source": [
    "### Imports"
   ]
  },
  {
   "cell_type": "code",
   "execution_count": 1,
   "id": "3ca6d8a7-fc4d-44b0-be33-02d9455ebb44",
   "metadata": {
    "tags": []
   },
   "outputs": [],
   "source": [
    "import numpy as np\n",
    "import xarray as xr\n",
    "import cartopy.crs as ccrs\n",
    "import matplotlib.pyplot as plt\n",
    "import seaborn\n",
    "import os\n",
    "import glob\n",
    "\n",
    "import pandas as pd"
   ]
  },
  {
   "cell_type": "markdown",
   "id": "a707ae85-0638-4de8-9cd4-a3d1cbff8242",
   "metadata": {},
   "source": [
    "### Functions"
   ]
  },
  {
   "cell_type": "code",
   "execution_count": 2,
   "id": "fbf8d4ed-6d8e-423e-8d71-71b0f165ad1b",
   "metadata": {
    "tags": []
   },
   "outputs": [],
   "source": [
    "def find_nearest(array,value):\n",
    "    idx,val = min(enumerate(array), key=lambda x: abs(x[1]-value))\n",
    "    return idx"
   ]
  },
  {
   "cell_type": "markdown",
   "id": "78311acb-4c5f-4de7-9334-45cba59afd9b",
   "metadata": {},
   "source": [
    "### Define paths and read data"
   ]
  },
  {
   "cell_type": "code",
   "execution_count": 3,
   "id": "12f1c0d3-17d2-4cd8-9e08-0f65566dcd73",
   "metadata": {
    "tags": []
   },
   "outputs": [],
   "source": [
    "# Paths and ensemble members\n",
    "EXP=\"HIST2\"\n",
    "OP=\"/work/scratch-pw3/atb299/\"#+EXP+\"/\"\n",
    "ENS=sorted(os.listdir(OP))"
   ]
  },
  {
   "cell_type": "markdown",
   "id": "e6b2107b-6c8c-47b3-8453-e03bd85b55bb",
   "metadata": {},
   "source": [
    "### Open extracted AMOC variables - small files for ease of use"
   ]
  },
  {
   "cell_type": "code",
   "execution_count": 4,
   "id": "38ad032b-c147-4e80-8cda-231cf9794c95",
   "metadata": {},
   "outputs": [],
   "source": [
    "EM_amoc_26N = xr.open_dataset(OP+\"Ensemble_amoc_z_26N.nc\").squeeze()\n",
    "EM_amoc_42N = xr.open_dataset(OP+\"Ensemble_amoc_z_42N.nc\").squeeze()\n",
    "EM_amoc_50N = xr.open_dataset(OP+\"Ensemble_amoc_z_50N.nc\").squeeze()\n",
    "EM_amoc_55N = xr.open_dataset(OP+\"Ensemble_amoc_z_55N.nc\").squeeze()"
   ]
  },
  {
   "cell_type": "code",
   "execution_count": 5,
   "id": "e85cc947-1e0a-4e76-baf0-fea30ce1b5d1",
   "metadata": {
    "tags": []
   },
   "outputs": [],
   "source": [
    "z1k = find_nearest(EM_amoc_26N['depthw'],1000)\n",
    "EM_amoc_26N['zomsfatl_1k'] = EM_amoc_26N['zomsfatl'].isel(depthw=z1k)\n",
    "EM_amoc_42N['zomsfatl_1k'] = EM_amoc_42N['zomsfatl'].isel(depthw=z1k)\n",
    "EM_amoc_50N['zomsfatl_1k'] = EM_amoc_50N['zomsfatl'].isel(depthw=z1k)\n",
    "EM_amoc_55N['zomsfatl_1k'] = EM_amoc_55N['zomsfatl'].isel(depthw=z1k)"
   ]
  },
  {
   "cell_type": "code",
   "execution_count": 6,
   "id": "f9b902e5-7b8d-4429-8c63-208e502e9b41",
   "metadata": {
    "tags": []
   },
   "outputs": [],
   "source": [
    "# Annual, annual mean and variance\n",
    "EM_amoc_26N_annual = EM_amoc_26N.resample(time_counter='1Y').mean(dim='time_counter')\n",
    "EM_amoc_26N_annual['zomsfatl_1k_mean'] = EM_amoc_26N_annual['zomsfatl_1k'].mean(dim='ensemble_member') \n",
    "EM_amoc_26N_annual['zomsfatl_1k_var'] = EM_amoc_26N_annual['zomsfatl_1k'].var(dim='ensemble_member')\n",
    "\n",
    "# Monthly mean and variance\n",
    "EM_amoc_26N['zomsfatl_1k_mean'] = EM_amoc_26N['zomsfatl_1k'].mean(dim='ensemble_member')\n",
    "EM_amoc_26N['zomsfatl_1k_var'] = EM_amoc_26N['zomsfatl_1k'].var(dim='ensemble_member')\n",
    "\n",
    "# Monthly seasonal cycle\n",
    "EM_amoc_26N['zomsfatl_1k_mean_scyc'] = EM_amoc_26N['zomsfatl_1k_mean'].groupby('time_counter.month').mean(\"time_counter\")\n",
    "EM_amoc_26N['zomsfatl_1k_varmean_scyc'] = EM_amoc_26N['zomsfatl_1k_mean'].groupby('time_counter.month').var(\"time_counter\")\n",
    "\n",
    "EM_amoc_26N['zomsfatl_1k_ensvar_as_scyc'] = EM_amoc_26N['zomsfatl_1k_var'].groupby('time_counter.month').mean(\"time_counter\")\n",
    "\n",
    "\n",
    "# Ensemble with mean seasonal cycle removed\n",
    "EM_amoc_26N['zomsfatl_1k_anom'] = EM_amoc_26N['zomsfatl_1k'].groupby('time_counter.month') - EM_amoc_26N['zomsfatl_1k_mean_scyc'] # Remove mean seasonal cycle\n",
    "EM_amoc_26N['zomsfatl_1k_mean_anom'] = EM_amoc_26N['zomsfatl_1k_mean'].groupby('time_counter.month') - EM_amoc_26N['zomsfatl_1k_mean_scyc'] # Remove mean seasonal cycle"
   ]
  },
  {
   "cell_type": "code",
   "execution_count": 7,
   "id": "93b88e0d-7701-4f31-8677-20b7808d5c56",
   "metadata": {
    "tags": []
   },
   "outputs": [],
   "source": [
    "# RAPID Obs\n",
    "Ramoc = xr.open_dataset('/work/scratch-pw3/atb299/RAPID_moc_transports.nc')\n",
    "Ramoc_M = Ramoc.resample(time='1M').mean() # Create monthly means - date assigned is last day of the month\n",
    "offset = pd.tseries.frequencies.to_offset(\"15D\") # Use pandas to offset the assigned time to (apprx.) centre of the month\n",
    "Ramoc_M[\"time\"] = Ramoc_M.get_index(\"time\") - offset # ...\n",
    "Ramoc_M['AMOC26_1k_sc'] = Ramoc_M['moc_mar_hc10'].groupby('time.month').mean(\"time\")\n",
    "Ramoc_M['AMOC26_1k_sc_var'] = Ramoc_M['moc_mar_hc10'].groupby('time.month').var(\"time\")\n",
    "Ramoc_M['AMOC26_1k_sc11on'] = Ramoc_M['moc_mar_hc10'].sel(time=slice('2011-01-01', '2022-12-31')).groupby('time.month').mean(\"time\")\n",
    "Ramoc_M['AMOC26_1k_scpre10'] = Ramoc_M['moc_mar_hc10'].sel(time=slice('2004-04-01', '2009-12-31')).groupby('time.month').mean(\"time\")\n",
    "\n",
    "Ramoc_Y = Ramoc.resample(time='1Y').mean() # Create annual means\n",
    "offset = pd.tseries.frequencies.to_offset(\"183D\") # Use pandas to offset the assigned time to (apprx.) centre of the month\n",
    "Ramoc_Y[\"time\"] = Ramoc_Y.get_index(\"time\") - offset # ...\n",
    "\n",
    "# Convert to datetime64 format        \n",
    "Ramoc_M360 = Ramoc_M.convert_calendar(calendar = '360_day', align_on = 'date')\n",
    "Ramoc_Y360 = Ramoc_Y.convert_calendar(calendar = '360_day', align_on = 'date')"
   ]
  },
  {
   "cell_type": "markdown",
   "id": "7bb57aa9-b3b4-47fa-be87-faef24f8bd9e",
   "metadata": {},
   "source": [
    "### Plot AMOC time series"
   ]
  },
  {
   "cell_type": "code",
   "execution_count": 8,
   "id": "ea79a19d-6d4e-4b1f-9815-94cebe441ab1",
   "metadata": {
    "tags": []
   },
   "outputs": [],
   "source": [
    "fp = \"/home/users/atb299/CANARI/Figures/\""
   ]
  },
  {
   "cell_type": "code",
   "execution_count": null,
   "id": "0ba379e5-8e69-4ea0-846c-9ba8fc843447",
   "metadata": {
    "tags": []
   },
   "outputs": [],
   "source": [
    "EM_amoc_26N['zomsfatl_1k'][:,:].plot.line(hue='ensemble_member',size=6,aspect=2,add_legend=True);\n",
    "EM_amoc_26N['zomsfatl_1k_mean'].plot(lw=3,color=\"white\");\n",
    "EM_amoc_26N['zomsfatl_1k_mean'].plot(lw=1,color=\"gray\");\n",
    "Ramoc_M360['moc_mar_hc10'][:].plot.line(label=\"RAPID\",color='k')\n",
    "seaborn.move_legend(plt.gca(), loc='center left', bbox_to_anchor=(1, 0.5))\n",
    "plt.title(\"AMOC @ 26N, 1 km: monthly time series for all ensemble members\")\n",
    "plt.savefig(fp+'AMOC26N_1k_monthly_ts.png', dpi=300, transparent=False, bbox_inches='tight', pad_inches=0.1)"
   ]
  },
  {
   "cell_type": "code",
   "execution_count": null,
   "id": "f01a6a57-c3b6-441c-8288-2692fc6e4f33",
   "metadata": {
    "tags": []
   },
   "outputs": [],
   "source": [
    "EM_amoc_26N_annual['zomsfatl_1k'].plot.line(hue='ensemble_member',size=6,aspect=2);\n",
    "EM_amoc_26N_annual['zomsfatl_1k_mean'].plot(lw=5,color=\"white\");\n",
    "EM_amoc_26N_annual['zomsfatl_1k_mean'].plot(lw=2,color=\"gray\");\n",
    "Ramoc_Y360['moc_mar_hc10'][:-1].plot.line(label=\"RAPID\",color='k')\n",
    "seaborn.move_legend(plt.gca(), loc='center left', bbox_to_anchor=(1, 0.5))\n",
    "plt.title(\"AMOC @ 26N, 1 km: calendar annual time series for all ensemble members\")\n",
    "plt.savefig(fp+'AMOC26N_1k_annual_ts.png', dpi=300, transparent=False, bbox_inches='tight', pad_inches=0.1)"
   ]
  },
  {
   "cell_type": "code",
   "execution_count": null,
   "id": "b5584466-6616-4bbf-865b-b1b1e2bdf2cc",
   "metadata": {
    "tags": []
   },
   "outputs": [],
   "source": [
    "EM_amoc_26N"
   ]
  },
  {
   "cell_type": "code",
   "execution_count": null,
   "id": "a13185d2-0815-4981-a9fc-d4de20241090",
   "metadata": {
    "tags": []
   },
   "outputs": [],
   "source": [
    "EM_amoc_26N['zomsfatl_1k_anom'].plot.line(hue='ensemble_member',size=6,aspect=2);\n",
    "EM_amoc_26N['zomsfatl_1k_mean_anom'].plot(lw=3,color=\"white\")\n",
    "EM_amoc_26N['zomsfatl_1k_mean_anom'].plot(lw=1,color=\"gray\")\n",
    "seaborn.move_legend(plt.gca(), loc='center left', bbox_to_anchor=(1, 0.5));\n",
    "plt.title(\"AMOC @ 26N, 1 km: monthly time series for all ensemble members with mean scyc removed\");\n",
    "plt.savefig(fp+'AMOC26N_1k_monthly_ts_minus_mean_scyc.png', dpi=300, transparent=False, bbox_inches='tight', pad_inches=0.1)"
   ]
  },
  {
   "cell_type": "code",
   "execution_count": null,
   "id": "5aad0265-ec19-4e72-9034-0de09a47f96b",
   "metadata": {},
   "outputs": [],
   "source": [
    "EM_amoc_26N['zomsfatl_1k_var'].plot(size=6,aspect=2);\n",
    "plt.title(\"AMOC @ 26N, 1 km: monthly ensemble variance\");\n",
    "plt.savefig(fp+'AMOC26N_1k_monthly_ensemble_variance.png', dpi=300, transparent=False, bbox_inches='tight', pad_inches=0.1)"
   ]
  },
  {
   "cell_type": "code",
   "execution_count": null,
   "id": "4b71630e-10c1-4d48-9e88-d82f91e9f587",
   "metadata": {
    "tags": []
   },
   "outputs": [],
   "source": [
    "EM_amoc_26N['zomsfatl_1k_ensvar_as_scyc'].plot(size=6,aspect=2)\n",
    "plt.title(\"AMOC @ 26N, 1 km: mean scyc of ensemble variance\");\n",
    "plt.savefig(fp+'AMOC26N_1k_mean_scyc_of_monthly_ensemble_variance.png', dpi=300, transparent=False, bbox_inches='tight', pad_inches=0.1)"
   ]
  },
  {
   "cell_type": "code",
   "execution_count": null,
   "id": "b7acc8f8-5310-467d-9052-076393c267df",
   "metadata": {
    "tags": []
   },
   "outputs": [],
   "source": [
    "EM_amoc_26N['zomsfatl_1k_mean_scyc'].plot(size=6,aspect=2,label=\"LE mean scyc\");\n",
    "Ramoc_M['AMOC26_1k_sc'].plot(label=\"RAPID\");\n",
    "slo = (EM_amoc_26N['zomsfatl_1k_mean_scyc']-EM_amoc_26N['zomsfatl_1k_ensvar_as_scyc']**.5).squeeze()\n",
    "shi = (EM_amoc_26N['zomsfatl_1k_mean_scyc']+EM_amoc_26N['zomsfatl_1k_ensvar_as_scyc']**.5).squeeze()\n",
    "\n",
    "rlo = (Ramoc_M['AMOC26_1k_sc']-Ramoc_M['AMOC26_1k_sc_var']**.5).squeeze()\n",
    "rhi = (Ramoc_M['AMOC26_1k_sc']+Ramoc_M['AMOC26_1k_sc_var']**.5).squeeze()\n",
    "plt.legend();\n",
    "plt.title(\"AMOC @ 26N, 1 km: Mean seasonal cycle (Sv)\");\n",
    "\n",
    "plt.fill_between(EM_amoc_26N['month'],slo,shi,alpha=.4);\n",
    "#plt.fill_between(EM_amoc_26N['month'],rlo,rhi,alpha=.3);\n",
    "plt.savefig(fp+'AMOC26N_1k_mean_scyc_vs_RAPID.png', dpi=300, transparent=False, bbox_inches='tight', pad_inches=0.1)"
   ]
  }
 ],
 "metadata": {
  "kernelspec": {
   "display_name": "Python [conda env:Sci3] *",
   "language": "python",
   "name": "conda-env-Sci3-py"
  },
  "language_info": {
   "codemirror_mode": {
    "name": "ipython",
    "version": 3
   },
   "file_extension": ".py",
   "mimetype": "text/x-python",
   "name": "python",
   "nbconvert_exporter": "python",
   "pygments_lexer": "ipython3",
   "version": "3.11.3"
  }
 },
 "nbformat": 4,
 "nbformat_minor": 5
}
