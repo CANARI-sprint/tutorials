{
 "cells": [
  {
   "cell_type": "markdown",
   "id": "c1fad20f-56cd-4d9c-a61a-687ff6c97978",
   "metadata": {},
   "source": [
    "# Custom Workloads with Dask Delayed\n",
    "This is based on the Dask example from https://examples.dask.org/delayed.html but has been adapted to run on JASMIN.\n",
    "\n",
    "Dask.delayed is a simple and powerful way to parallelize existing code. It allows users to delay function calls into a task graph with dependencies. Dask.delayed doesn’t provide any fancy parallel algorithms like Dask.dataframe, but it does give the user complete control over what they want to build.\n",
    "\n",
    "Systems like Dask.dataframe are built with Dask.delayed. If you have a problem that is paralellizable, but isn’t as simple as just a big array or a big dataframe, then dask.delayed may be the right choice for you."
   ]
  },
  {
   "cell_type": "code",
   "execution_count": null,
   "id": "93535646-2c13-45b4-993e-066ca12ddcfa",
   "metadata": {},
   "outputs": [],
   "source": [
    "%%time\n",
    "import dask_gateway\n",
    "import dask\n",
    "# Create a connection to dask-gateway.\n",
    "gw = dask_gateway.Gateway(\"https://dask-gateway.jasmin.ac.uk\", auth=\"jupyterhub\")\n",
    "\n",
    "# Inspect and change the options if required before creating your cluster.\n",
    "options = gw.cluster_options()\n",
    "options.worker_cores = 1 #keeping this at 1 and allowing 15 worker processes seems to run faster than the other way around\n",
    "options.scheduler_cores = 1 #we need at least one core for the scheduler\n",
    "\n",
    "#specify which conda env to use\n",
    "#this must match the versions of python and dask (and a few other libraries) used on the notebook service\n",
    "#if you aren't using the default environment change the last argument to match your environment\n",
    "options.worker_setup='source /apps/jasmin/jaspy/mambaforge_envs/jaspy3.10/mf-22.11.1-4/bin/activate /gws/smf/j04/canari/dask-env'\n",
    "\n",
    "# Create a dask cluster, or, if one already exists, connect to it.\n",
    "# This stage creates the scheduler job in SLURM, so may take some time.\n",
    "# While your job queues.\n",
    "clusters = gw.list_clusters()\n",
    "if not clusters:\n",
    "    cluster = gw.new_cluster(options, shutdown_on_close=False)\n",
    "else:\n",
    "    cluster = gw.connect(clusters[0].name)\n",
    "\n",
    "# Create at least one worker, and allow your cluster to scale to 15.\n",
    "# The max JASMIN allows is 16, but one of these is used as the scheduler.\n",
    "cluster.adapt(minimum=1, maximum=15)\n",
    "\n",
    "# Get a dask client.\n",
    "client = cluster.get_client()"
   ]
  },
  {
   "cell_type": "markdown",
   "id": "03c4be5f-0345-4983-81d6-18f00263c671",
   "metadata": {},
   "source": [
    "The link to the dashboard will become visible below. We recommend having it open on one side of your screen while using your notebook on the other side. This can take some effort to arrange your windows, but seeing them both at the same is very useful when learning.\n",
    "\n",
    "On JASMIN the Dashboard can be shown by connecting a web browser to the address (something like https://dask-gateway.jasmin.ac.uk/clusters/3189803deca44f60bdc9653e06cc180d/status) returned by the cell below. But this is only available on the JASMIN network, so we have to do it over the [Jasmin No Machine login](https://help.jasmin.ac.uk/docs/interactive-computing/graphical-linux-desktop-access-using-nx/).\n"
   ]
  },
  {
   "cell_type": "code",
   "execution_count": null,
   "id": "bd4c6f8f-f02d-4fdc-b48e-be7138fada01",
   "metadata": {},
   "outputs": [],
   "source": [
    "client"
   ]
  },
  {
   "cell_type": "markdown",
   "id": "379635ab-da40-4966-84dd-1e4757f35174",
   "metadata": {},
   "source": [
    "## Create simple functions\n",
    "\n",
    "These functions do simple operations like add two numbers together, but they sleep for a random amount of time to simulate real work."
   ]
  },
  {
   "cell_type": "code",
   "execution_count": null,
   "id": "83d6e188-8624-4659-8b79-11f62448340c",
   "metadata": {},
   "outputs": [],
   "source": [
    "import time\n",
    "import random\n",
    "\n",
    "def inc(x):\n",
    "    time.sleep(random.random())\n",
    "    return x + 1\n",
    "\n",
    "def dec(x):\n",
    "    time.sleep(random.random())\n",
    "    return x - 1\n",
    "\n",
    "def add(x, y):\n",
    "    time.sleep(random.random())\n",
    "    return x + y"
   ]
  },
  {
   "cell_type": "markdown",
   "id": "88b2dba4-08a0-48cb-9958-d0c0a5403a47",
   "metadata": {},
   "source": [
    "We can run them like normal Python functions below"
   ]
  },
  {
   "cell_type": "code",
   "execution_count": null,
   "id": "28f18c00-dfc2-40bd-b8ee-12755279655c",
   "metadata": {},
   "outputs": [],
   "source": [
    "%%time\n",
    "x = inc(1)\n",
    "y = dec(2)\n",
    "z = add(x, y)\n",
    "z"
   ]
  },
  {
   "cell_type": "markdown",
   "id": "967aa4f7-1ac4-43c3-b1a3-0d1d18167c29",
   "metadata": {},
   "source": [
    "These ran one after the other, in sequence. Note though that the first two lines inc(1) and dec(2) don’t depend on each other, we could have called them in parallel had we been clever."
   ]
  },
  {
   "cell_type": "markdown",
   "id": "c38c7f78-a89e-4e12-9035-bd11c4a857e4",
   "metadata": {},
   "source": [
    "## Annotate functions with Dask Delayed to make them lazy\n",
    "\n",
    "We can call dask.delayed on our funtions to make them lazy. Rather than compute their results immediately, they record what we want to compute as a task into a graph that we’ll run later on parallel hardware."
   ]
  },
  {
   "cell_type": "code",
   "execution_count": null,
   "id": "6d0f9549-30f3-452d-bdf8-a3c81a85d907",
   "metadata": {},
   "outputs": [],
   "source": [
    "inc_delayed = dask.delayed(inc)\n",
    "dec_delayed = dask.delayed(dec)\n",
    "add_delayed = dask.delayed(add)"
   ]
  },
  {
   "cell_type": "markdown",
   "id": "35391249-3e29-4fea-a143-bc5b1bc697b0",
   "metadata": {},
   "source": [
    "Calling these lazy functions is now almost free. We’re just constructing a graph"
   ]
  },
  {
   "cell_type": "code",
   "execution_count": null,
   "id": "9880ef35-30ce-46aa-ae69-999ae2f90812",
   "metadata": {},
   "outputs": [],
   "source": [
    "x = inc_delayed(1)\n",
    "y = dec_delayed(2)\n",
    "z = add_delayed(x, y)\n",
    "z"
   ]
  },
  {
   "cell_type": "markdown",
   "id": "f4e08048-2ec9-4d0c-afe0-ca29833bf880",
   "metadata": {},
   "source": [
    "## Visualize computation\n",
    "\n",
    "You will need graphviz installed for this to work"
   ]
  },
  {
   "cell_type": "code",
   "execution_count": null,
   "id": "19dfe011-b2b7-41a4-9819-4ea2407d174c",
   "metadata": {},
   "outputs": [],
   "source": [
    "z.visualize(rankdir='LR')"
   ]
  },
  {
   "cell_type": "markdown",
   "id": "b9b1ab8e-7d15-4319-a8ad-26694434002e",
   "metadata": {},
   "source": [
    "## Run in parallel\n",
    "\n",
    "Call .compute() when you want your result as a normal Python object\n",
    "\n",
    "If you started Client() above then you may want to watch the status page during computation."
   ]
  },
  {
   "cell_type": "code",
   "execution_count": null,
   "id": "986480e8-1d7c-4708-995a-5fce12a0d03c",
   "metadata": {},
   "outputs": [],
   "source": [
    "z.compute()"
   ]
  },
  {
   "cell_type": "markdown",
   "id": "2c7c3815-b007-4141-ac03-40628c590997",
   "metadata": {},
   "source": [
    "## Parallelize Normal Python code\n",
    "\n",
    "Now we use Dask in normal for-loopy Python code. This generates graphs instead of doing computations directly, but still looks like the code we had before. Dask is a convenient way to add parallelism to existing workflows."
   ]
  },
  {
   "cell_type": "code",
   "execution_count": null,
   "id": "9bc8814b-99d5-44ff-91b7-61ddb59a6681",
   "metadata": {},
   "outputs": [],
   "source": [
    "zs = []"
   ]
  },
  {
   "cell_type": "code",
   "execution_count": null,
   "id": "7a7a5f71-b54e-4648-b39a-575d9db7d5bd",
   "metadata": {},
   "outputs": [],
   "source": [
    "%%time\n",
    "for i in range(256):\n",
    "    x = inc_delayed(i)\n",
    "    y = dec_delayed(x)\n",
    "    z = add_delayed(x, y)\n",
    "    zs.append(z)"
   ]
  },
  {
   "cell_type": "code",
   "execution_count": null,
   "id": "6bb587d2-0b8e-4673-ac6e-1cae30b44ea1",
   "metadata": {},
   "outputs": [],
   "source": [
    "%%time\n",
    "zs = dask.persist(*zs) # trigger computation in the background"
   ]
  },
  {
   "cell_type": "markdown",
   "id": "9710f3e7-f141-45a7-863c-61ebcb84dd4d",
   "metadata": {},
   "source": [
    "## Custom computation: Tree summation\n",
    "\n",
    "As an example of a non-trivial algorithm, consider the classic tree reduction (to sum the value of zs in parallel). We accomplish this with a nested for loop and a bit of normal Python logic.\n",
    "\n",
    "```\n",
    "finish           total             single output\n",
    "    ^          /        \\\n",
    "    |        c1          c2        neighbors merge\n",
    "    |       /  \\        /  \\\n",
    "    |     b1    b2    b3    b4     neighbors merge\n",
    "    ^    / \\   / \\   / \\   / \\\n",
    "start   a1 a2 a3 a4 a5 a6 a7 a8    many inputs\n",
    "```"
   ]
  },
  {
   "cell_type": "code",
   "execution_count": null,
   "id": "40930052-5fa3-4db9-af40-8978f647e83c",
   "metadata": {},
   "outputs": [],
   "source": [
    "%%time\n",
    "L = zs\n",
    "while len(L) > 1:\n",
    "    new_L = []\n",
    "    for i in range(0, len(L), 2):\n",
    "        lazy = add_delayed(L[i], L[i + 1])  # add neighbors\n",
    "        new_L.append(lazy)\n",
    "    L = new_L                       # swap old list for new\n",
    "\n",
    "dask.compute(L)"
   ]
  },
  {
   "cell_type": "code",
   "execution_count": null,
   "id": "8b35fcad-bad3-4946-aa3d-5aadb692d6d0",
   "metadata": {},
   "outputs": [],
   "source": [
    "cluster.shutdown() #shutdown our dask cluster. If we want to use it for something else we could remove this, but starting a new one only takes a few seconds"
   ]
  },
  {
   "cell_type": "code",
   "execution_count": null,
   "id": "fe830b8c-4397-448c-964d-13f6908398e3",
   "metadata": {},
   "outputs": [],
   "source": [
    "#%%time\n",
    "#serialised version for comparison. uncomment if you want to try it\n",
    "\n",
    "#zs = []\n",
    "#for i in range(256):\n",
    "#    x = inc(i)\n",
    "#    y = dec(x)\n",
    "#    z = add(x, y)\n",
    "#    zs.append(z)\n",
    "\n",
    "#L = zs\n",
    "#while len(L) > 1:\n",
    "#    new_L = []\n",
    "#    for i in range(0, len(L), 2):\n",
    "#        lazy = add(L[i], L[i + 1])  # add neighbors\n",
    "#        new_L.append(lazy)\n",
    "#    L = new_L                       # swap old list for new\n",
    "#L\n"
   ]
  }
 ],
 "metadata": {
  "kernelspec": {
   "display_name": "CANARI-dask",
   "language": "python",
   "name": "canari-dask"
  },
  "language_info": {
   "codemirror_mode": {
    "name": "ipython",
    "version": 3
   },
   "file_extension": ".py",
   "mimetype": "text/x-python",
   "name": "python",
   "nbconvert_exporter": "python",
   "pygments_lexer": "ipython3",
   "version": "3.10.12"
  }
 },
 "nbformat": 4,
 "nbformat_minor": 5
}
