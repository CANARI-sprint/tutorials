{
 "cells": [
  {
   "cell_type": "markdown",
   "id": "bcab180c-c0a5-4c49-af44-948f2437ea6e",
   "metadata": {},
   "source": [
    "# Basic plots"
   ]
  },
  {
   "cell_type": "markdown",
   "id": "6e823f9e-bf2c-4680-85a1-c51a294e7208",
   "metadata": {},
   "source": [
    "This notebook works through an example using the CANARI-LE historical data to make various Sea Surface Temperature plots"
   ]
  },
  {
   "cell_type": "code",
   "execution_count": 1,
   "id": "42a0d11c-df8e-4c9e-b706-27aecd096467",
   "metadata": {},
   "outputs": [],
   "source": [
    "# Imports the python packages used read in, analyse and plot data:\n",
    "\n",
    "import xarray as xr  # Lets you read in data\n",
    "import numpy as np\n",
    "import matplotlib.pyplot as plt\n",
    "from netCDF4 import Dataset\n",
    "import glob\n",
    "import cartopy.crs as ccrs\n",
    "import cartopy.feature as cfeature"
   ]
  },
  {
   "cell_type": "code",
   "execution_count": 2,
   "id": "20909142-9ec0-4fe1-bbcd-eec018da5708",
   "metadata": {},
   "outputs": [
    {
     "name": "stdout",
     "output_type": "stream",
     "text": [
      "['/gws/nopw/j04/canari/shared/large-ensemble/priority/HIST2/1/OCN/yearly/1950/cv575o_1_mon__grid_T_votemper.nc']\n"
     ]
    }
   ],
   "source": [
    "# Sea surface data is stored as daily data in the priority variables under the variable name tos and can be taken as the top temperature layer from votemper,\n",
    "# which is stored as monthly means.\n",
    "# The CANARI-LE computes years comprising of 12 months containing 30 days each, so there should be 360 days each year.\n",
    "\n",
    "# Make a list of all temperature files for one ensemble member and one year.\n",
    "# This should be only one file, but you can edit the command below with wildcards to pick up more of the ensemble.\n",
    "datadir = '/gws/nopw/j04/canari/shared/large-ensemble/priority/HIST2/'\n",
    "infiles = glob.glob((datadir + '1/OCN/yearly/1950/*_votemper.nc')) # First ensemble member only, need to make a list of all files\n",
    "print(infiles)  # Lists all the files"
   ]
  },
  {
   "cell_type": "code",
   "execution_count": null,
   "id": "4146ee74-c057-42e3-8866-3c7cad800574",
   "metadata": {},
   "outputs": [],
   "source": [
    "# Lazy load data into xarray (only reads data into memory when needed):\n",
    "t_data = xr.open_mfdataset(infiles)"
   ]
  },
  {
   "cell_type": "code",
   "execution_count": null,
   "id": "b62c4c1e-65df-4715-86ff-ed9916cfc7e7",
   "metadata": {
    "scrolled": true
   },
   "outputs": [],
   "source": [
    "# Running this is similar to doing an 'ncdump -h' on a netcdf file, it gives you the details of the data in the file:\n",
    "t_data"
   ]
  },
  {
   "cell_type": "code",
   "execution_count": null,
   "id": "06e13360-b553-4bb2-a970-42f7901beef6",
   "metadata": {},
   "outputs": [],
   "source": [
    "# Create a 2D plot of a month of SST data:\n",
    "t_data['votemper'][0,0,:,:].plot()"
   ]
  },
  {
   "cell_type": "code",
   "execution_count": null,
   "id": "0f30cf0b-4b77-4195-a642-8dbaa54e23e7",
   "metadata": {},
   "outputs": [],
   "source": [
    "# xarray is capable of doing a lot of things but if you just want to use it to read in data and then work with numpy arrays the .to_numpy().\n",
    "# The example below reads the first time step of the surface temperature data:\n",
    "sst = t_data['votemper'][0,0,:,:].to_numpy()"
   ]
  },
  {
   "cell_type": "code",
   "execution_count": null,
   "id": "d036d6f5-5f65-4d98-b2cf-81f6316a7cb8",
   "metadata": {},
   "outputs": [],
   "source": [
    "# The plot above, while very simple to plot does not have the proper latitudes and longitudes.\n",
    "# This example will use Cartopy to make a prettier plot.\n",
    "\n",
    "fig = plt.figure(figsize=(12,7))\n",
    "# Choose projection:\n",
    "ax = plt.axes(projection=ccrs.Robinson())\n",
    "plt.pcolormesh(t_data['nav_lon'],t_data['nav_lat'],sst,transform=ccrs.PlateCarree(),shading='nearest')\n",
    "# shading='nearest' will use the provided latitude and longitude to be the centre of the grid box.  It's more accurate to provide\n",
    "# the corners, to nav_lon and nav_lat will be one larger in each direction.\n",
    "ax.add_feature(cfeature.NaturalEarthFeature('physical', 'land', '50m', edgecolor='face', facecolor='0.5'))\n",
    "ax.coastlines(color='1')\n",
    "\n",
    "# Add in gridlines\n",
    "gl=ax.gridlines(draw_labels=True)\n",
    "gl.top_labels = False\n",
    "gl.left_labels = False\n",
    "gl.xlabel_style = {'fontsize': 14}\n",
    "gl.ylabel_style = {'fontsize': 14}\n",
    "\n",
    "plt.title('January 1950 Sea Surface Temperature',fontsize=16)\n",
    "\n",
    "cb = plt.colorbar(extend='both',orientation='horizontal')\n",
    "cb.ax.tick_params(labelsize=14)\n",
    "cb.set_label('temperature ($^{\\circ}$C)',size=16)"
   ]
  },
  {
   "cell_type": "code",
   "execution_count": null,
   "id": "fa95b77a-134f-47fc-8a45-66d5da7a912d",
   "metadata": {},
   "outputs": [],
   "source": [
    "# Make the latitudes and longitudes be the corner of the grid boxes:\n",
    "lon_corner = t_data['bounds_nav_lon'][:,:,0].to_numpy()\n",
    "lat_corner = t_data['bounds_nav_lat'][:,:,0].to_numpy()\n",
    "\n",
    "# Add extra on right:\n",
    "lon_corner = np.concatenate((lon_corner,t_data['bounds_nav_lon'][:,-1:,1].to_numpy()),axis=1)\n",
    "lat_corner = np.concatenate((lat_corner,t_data['bounds_nav_lat'][:,-1:,1].to_numpy()),axis=1)\n",
    "\n",
    "# Add extra on top:\n",
    "lon_corner = np.concatenate((lon_corner,np.concatenate((t_data['bounds_nav_lon'][-1:,:,3].to_numpy(),t_data['bounds_nav_lon'][-1:,-1:,2].to_numpy()),axis=1)),axis=0)\n",
    "lat_corner = np.concatenate((lat_corner,np.concatenate((t_data['bounds_nav_lat'][-1:,:,3].to_numpy(),t_data['bounds_nav_lat'][-1:,-1:,2].to_numpy()),axis=1)),axis=0)"
   ]
  },
  {
   "cell_type": "code",
   "execution_count": null,
   "id": "0a3ffd74-e336-4b11-8d13-e18b0c817e79",
   "metadata": {},
   "outputs": [],
   "source": [
    "# Different global projection and different data:\n",
    "\n",
    "fig = plt.figure(figsize=(12,7))\n",
    "# Choose projection (there are several different things you can change for different projections, see https://scitools.org.uk/cartopy/docs/v0.15/crs/projections.html):\n",
    "ax = plt.axes(projection=ccrs.PlateCarree(central_longitude=-60))\n",
    "\n",
    "# Choose a different colorbar and make it have 21 distinct colours instead continuous colors\n",
    "cmap = plt.get_cmap('seismic',21)\n",
    "\n",
    "plt.pcolormesh(lon_corner,lat_corner,t_data['votemper'][6,0,:,:]-t_data['votemper'][0,0,:,:],transform=ccrs.PlateCarree(),vmin=-1.05*10,vmax=1.05*10,shading='flat',cmap=cmap)\n",
    "ax.add_feature(cfeature.NaturalEarthFeature('physical', 'land', '50m', edgecolor='face', facecolor='0.75'))\n",
    "ax.coastlines(color='0')\n",
    "\n",
    "# Add in gridlines\n",
    "gl=ax.gridlines(draw_labels=True)\n",
    "gl.top_labels   = False\n",
    "gl.right_labels = False\n",
    "gl.xlabel_style = {'fontsize': 14}\n",
    "gl.ylabel_style = {'fontsize': 14}\n",
    "\n",
    "plt.title('July - January 1950 Sea Surface Temperature',fontsize=16)\n",
    "\n",
    "cb = plt.colorbar(extend='both',orientation='vertical',shrink=0.5)\n",
    "cb.ax.tick_params(labelsize=14)\n",
    "cb.set_label('temperature difference ($^{\\circ}$C)',size=16)"
   ]
  },
  {
   "cell_type": "code",
   "execution_count": null,
   "id": "23761a9f-d536-4cdc-ae4a-055c346a88ed",
   "metadata": {},
   "outputs": [],
   "source": [
    "# Same plot as above but for Atlantic-Arctic projection:\n",
    "\n",
    "fig = plt.figure(figsize=(12,7))\n",
    "# Choose projection (there are several different things you can change for different projections, see https://scitools.org.uk/cartopy/docs/v0.15/crs/projections.html):\n",
    "ax = plt.axes(projection=ccrs.Orthographic(central_longitude=-30, central_latitude=50))\n",
    "\n",
    "# Choose a different colorbar and make it have 21 distinct colours instead continuous colors\n",
    "cmap = plt.get_cmap('seismic',21)\n",
    "\n",
    "plt.pcolormesh(lon_corner,lat_corner,t_data['votemper'][6,0,:,:]-t_data['votemper'][0,0,:,:],transform=ccrs.PlateCarree(),vmin=-1.05*10,vmax=1.05*10,shading='flat',cmap=cmap)\n",
    "ax.add_feature(cfeature.NaturalEarthFeature('physical', 'land', '50m', edgecolor='face', facecolor='0.75'))\n",
    "ax.coastlines(color='0')\n",
    "\n",
    "# Add in gridlines\n",
    "gl=ax.gridlines(draw_labels=True)\n",
    "gl.top_labels   = False\n",
    "gl.right_labels = False\n",
    "gl.xlabel_style = {'fontsize': 14}\n",
    "gl.ylabel_style = {'fontsize': 14}\n",
    "\n",
    "plt.title('July - January 1950 Sea Surface Temperature',fontsize=16)\n",
    "\n",
    "cb = plt.colorbar(extend='both',orientation='vertical',shrink=0.75)\n",
    "cb.ax.tick_params(labelsize=14)\n",
    "cb.set_label('temperature difference ($^{\\circ}$C)',size=16)"
   ]
  },
  {
   "cell_type": "code",
   "execution_count": null,
   "id": "3854c28e-9b34-4677-9def-119c492ee9c6",
   "metadata": {},
   "outputs": [],
   "source": []
  }
 ],
 "metadata": {
  "kernelspec": {
   "display_name": "canari-sprint",
   "language": "python",
   "name": "canari-sprint"
  },
  "language_info": {
   "codemirror_mode": {
    "name": "ipython",
    "version": 3
   },
   "file_extension": ".py",
   "mimetype": "text/x-python",
   "name": "python",
   "nbconvert_exporter": "python",
   "pygments_lexer": "ipython3",
   "version": "3.10.12"
  }
 },
 "nbformat": 4,
 "nbformat_minor": 5
}
