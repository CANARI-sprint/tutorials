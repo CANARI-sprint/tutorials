{
 "cells": [
  {
   "cell_type": "markdown",
   "id": "bcab180c-c0a5-4c49-af44-948f2437ea6e",
   "metadata": {},
   "source": [
    "# Basic plots"
   ]
  },
  {
   "cell_type": "markdown",
   "id": "6e823f9e-bf2c-4680-85a1-c51a294e7208",
   "metadata": {},
   "source": [
    "This notebook works through an example using the CANARI-LE historical data to make various Sea Surface Temperature (SST) plots"
   ]
  },
  {
   "cell_type": "code",
   "execution_count": 1,
   "id": "42a0d11c-df8e-4c9e-b706-27aecd096467",
   "metadata": {},
   "outputs": [
    {
     "ename": "ModuleNotFoundError",
     "evalue": "No module named 'ensemble_setup'",
     "output_type": "error",
     "traceback": [
      "\u001b[0;31m---------------------------------------------------------------------------\u001b[0m",
      "\u001b[0;31mModuleNotFoundError\u001b[0m                       Traceback (most recent call last)",
      "Cell \u001b[0;32mIn[1], line 13\u001b[0m\n\u001b[1;32m     10\u001b[0m \u001b[38;5;28;01mfrom\u001b[39;00m \u001b[38;5;21;01mcartopy\u001b[39;00m\u001b[38;5;21;01m.\u001b[39;00m\u001b[38;5;21;01mmpl\u001b[39;00m\u001b[38;5;21;01m.\u001b[39;00m\u001b[38;5;21;01mgridliner\u001b[39;00m \u001b[38;5;28;01mimport\u001b[39;00m LONGITUDE_FORMATTER, LATITUDE_FORMATTER\n\u001b[1;32m     12\u001b[0m \u001b[38;5;66;03m# Customized ensemble setup\u001b[39;00m\n\u001b[0;32m---> 13\u001b[0m \u001b[38;5;28;01mimport\u001b[39;00m \u001b[38;5;21;01mensemble_setup\u001b[39;00m \u001b[38;5;28;01mas\u001b[39;00m \u001b[38;5;21;01mes\u001b[39;00m\n",
      "\u001b[0;31mModuleNotFoundError\u001b[0m: No module named 'ensemble_setup'"
     ]
    }
   ],
   "source": [
    "# Imports the python packages used read in, analyse and plot data:\n",
    "\n",
    "import xarray as xr  # Lets you read in data\n",
    "import numpy as np\n",
    "import matplotlib.pyplot as plt\n",
    "from netCDF4 import Dataset\n",
    "import glob\n",
    "import cartopy.feature as cfeature\n",
    "from cartopy.feature import NaturalEarthFeature, LAND, COASTLINE\n",
    "from cartopy.mpl.gridliner import LONGITUDE_FORMATTER, LATITUDE_FORMATTER\n"
   ]
  },
  {
   "cell_type": "code",
   "execution_count": null,
   "id": "35e15d92",
   "metadata": {},
   "outputs": [],
   "source": [
    "datadir = '/gws/nopw/j04/canari/shared/large-ensemble/priority/HIST2/'\n",
    "ens = [1,  2,  3,  4, 5,  6, 7, 9, 10,  12,  13,  18, 2,  20,  21,  22,  24,  28, 31, ]"
   ]
  },
  {
   "cell_type": "code",
   "execution_count": null,
   "id": "20909142-9ec0-4fe1-bbcd-eec018da5708",
   "metadata": {},
   "outputs": [],
   "source": [
    "# Sea surface data is stored as daily data in the priority variables under the variable name tos and can be taken as the top temperature layer from votemper,\n",
    "# which is stored as monthly means.\n",
    "# The CANARI-LE computes years comprising of 12 months containing 30 days each, so there should be 360 days each year.\n",
    "# In this example we will use the top layer from votemper.\n",
    "\n",
    "# Make a list of all temperature files for one ensemble member:\n",
    "infiles = glob.glob((datadir + str(ens[0]) + '/OCN/yearly/1950/*_votemper.nc')) # First ensemble member only, need to make a list of all files\n",
    "\n",
    "# Lazy load data into xarray (only reads data into memory when needed):\n",
    "t_data = xr.open_mfdataset(infiles)"
   ]
  },
  {
   "cell_type": "code",
   "execution_count": null,
   "id": "b62c4c1e-65df-4715-86ff-ed9916cfc7e7",
   "metadata": {
    "scrolled": true
   },
   "outputs": [],
   "source": [
    "# Running this is similar to doing an 'ncdump -h' on a netcdf file, it gives you the details of the data in the file:\n",
    "t_data"
   ]
  },
  {
   "cell_type": "code",
   "execution_count": null,
   "id": "06e13360-b553-4bb2-a970-42f7901beef6",
   "metadata": {},
   "outputs": [],
   "source": [
    "# Create a 2D plot of a month of SST data:\n",
    "t_data['votemper'][0,0,:,:].plot()"
   ]
  },
  {
   "cell_type": "code",
   "execution_count": null,
   "id": "0f30cf0b-4b77-4195-a642-8dbaa54e23e7",
   "metadata": {},
   "outputs": [],
   "source": [
    "# xarray is capable of doing a lot of things but if you just want to use it to read in data and then work with numpy arrays the .values let you do just that.\n",
    "# The example below reads in the latitude data into a numpy array.\n",
    "lat = t_data['nav_lat'].values\n",
    "print(type(lat))\n",
    "\n",
    "# values doesn't mask, to_numpy()\n",
    "# Similarly if you just want to read the first time step of the surface temperature data:\n",
    "sst = Tdata['votemper'][0,0,:,:].values"
   ]
  },
  {
   "cell_type": "code",
   "execution_count": null,
   "id": "12eb83b9-13a9-437b-a8e2-5e808a30a92a",
   "metadata": {},
   "outputs": [],
   "source": [
    "# Compute mean over full length of simulation and all ensemble members:\n",
    "infiles = glob.glob((datadir + str(ens[0]) + '/OCN/yearly/*/*_votemper.nc')) # First ensemble member only, need to make a list of all files\n",
    "\n",
    "# Lazy load data into xarray (only reads data into memory when needed):\n",
    "t_data = xr.open_mfdataset(infiles)"
   ]
  },
  {
   "cell_type": "code",
   "execution_count": null,
   "id": "8b41f629-2eec-48b6-997e-ff9a8aab72b0",
   "metadata": {},
   "outputs": [],
   "source": [
    "# Reduce data to annual mean SST only:\n",
    "annual_mean = Tdata.groupby('time_counter.year').mean()"
   ]
  },
  {
   "cell_type": "code",
   "execution_count": null,
   "id": "d16d17fc-31ca-46c7-8330-c9ecc7fc562e",
   "metadata": {},
   "outputs": [],
   "source": [
    "# Compute standard deviation of ensemble mean:\n",
    "annual_std = t_data.groupby('time_counter.year').std()\n",
    "annual_std.compute()"
   ]
  },
  {
   "cell_type": "code",
   "execution_count": null,
   "id": "931c6358-0b59-4ff8-939d-8204d3419eee",
   "metadata": {},
   "outputs": [],
   "source": [
    "# Subtract ensemble mean from each ensembe member and compute standard deviation:"
   ]
  },
  {
   "cell_type": "code",
   "execution_count": null,
   "id": "f04131e3-988f-404a-8c15-78e002708d32",
   "metadata": {},
   "outputs": [],
   "source": [
    "# Compute AMV index:"
   ]
  },
  {
   "cell_type": "code",
   "execution_count": null,
   "id": "ecb3283a-5682-4d51-aa5a-fea24a8680ab",
   "metadata": {},
   "outputs": [],
   "source": [
    "# Plot forced versus internal variablility of AMV:"
   ]
  },
  {
   "cell_type": "code",
   "execution_count": null,
   "id": "00dfb548-58e6-4f58-bb7a-5ec919ae32ac",
   "metadata": {},
   "outputs": [],
   "source": [
    "# Save computed AMV index to it's own netcdf file:"
   ]
  },
  {
   "cell_type": "code",
   "execution_count": null,
   "id": "fc00669e-2dac-497f-a6c5-4b24ab91f7ac",
   "metadata": {},
   "outputs": [],
   "source": [
    "temp = t_data.isel(time_counter=500)"
   ]
  },
  {
   "cell_type": "code",
   "execution_count": null,
   "id": "fdc4c610-ff75-49fc-91dd-15c371fb951b",
   "metadata": {},
   "outputs": [],
   "source": [
    "sst = temp['votemper'].values"
   ]
  },
  {
   "cell_type": "code",
   "execution_count": null,
   "id": "76f56d17-aaf6-4761-bf41-926bda308aa3",
   "metadata": {},
   "outputs": [],
   "source": [
    "temp.plot"
   ]
  },
  {
   "cell_type": "code",
   "execution_count": null,
   "id": "ca834fed-6acf-45cf-bb51-cd1a1b1caff3",
   "metadata": {},
   "outputs": [],
   "source": [
    "plt.pcolormesh(lat)"
   ]
  },
  {
   "cell_type": "code",
   "execution_count": null,
   "id": "61a508e5-0f01-4455-bd74-2ba04cc8a8f1",
   "metadata": {},
   "outputs": [],
   "source": [
    "# Quick plot of SST data, for the first day of one file:\n",
    "\n",
    "# Read in SST data:\n",
    "ncid = Dataset(infiles[0],'r')      # Remember python uses zero indexing so this is just looking at the first file, also the 'r' means it's read only\n",
    "tos = ncid.variables['tos'][0,:,:]  # The 0 indicates were are reading in the first timestep only\n",
    "ncid.close()\n",
    "\n",
    "# Check the size of the data which has been read in:\n",
    "print('The shape/size of the variable which has been read in: ' + str(np.shape(tos)))\n",
    "\n",
    "# This plots the data:\n",
    "plt.figure()\n",
    "plt.pcolormesh(tos)\n",
    "plt.colorbar()"
   ]
  },
  {
   "cell_type": "code",
   "execution_count": null,
   "id": "a5a7be22-49db-4348-bd5b-f1e0f23fb663",
   "metadata": {},
   "outputs": [],
   "source": [
    "# Note that the above plot is simple, doesn't have lat/lon labels and uses the basic python settings.\n",
    "# To do this we will use xarray, which uses netCDF4, Dataset in the background but has a lot of build in functionality.\n",
    "\n",
    "# This loads the data in the first file.  It does a 'lazy load' and only uses up memory to store the data when it needs it.\n",
    "ds_tos = xr.open_dataset(infiles[0])"
   ]
  },
  {
   "cell_type": "code",
   "execution_count": null,
   "id": "47ba0105-7ecf-4069-bdf1-9719b4fc4c82",
   "metadata": {},
   "outputs": [],
   "source": [
    "# By typing the name of the dataset you read in you can see information about it, kind of like an ncdump\n",
    "ds_tos"
   ]
  },
  {
   "cell_type": "code",
   "execution_count": null,
   "id": "4fd26e15-65a3-47c6-97dd-6e8dd793ade9",
   "metadata": {},
   "outputs": [],
   "source": [
    "ts_1d = ds_tos.isel(x=30,y=10)"
   ]
  },
  {
   "cell_type": "code",
   "execution_count": null,
   "id": "537998d6-09f8-4c44-a412-b79868c657c6",
   "metadata": {},
   "outputs": [],
   "source": [
    "ts_1d.plot()"
   ]
  },
  {
   "cell_type": "code",
   "execution_count": null,
   "id": "de946b9c-056e-434c-8d77-f45fc26b4678",
   "metadata": {},
   "outputs": [],
   "source": [
    "ts_1d"
   ]
  },
  {
   "cell_type": "code",
   "execution_count": null,
   "id": "23761a9f-d536-4cdc-ae4a-055c346a88ed",
   "metadata": {},
   "outputs": [],
   "source": []
  }
 ],
 "metadata": {
  "kernelspec": {
   "display_name": "CANARI-mine",
   "language": "python",
   "name": "canari-mine"
  },
  "language_info": {
   "codemirror_mode": {
    "name": "ipython",
    "version": 3
   },
   "file_extension": ".py",
   "mimetype": "text/x-python",
   "name": "python",
   "nbconvert_exporter": "python",
   "pygments_lexer": "ipython3",
   "version": "3.10.12"
  }
 },
 "nbformat": 4,
 "nbformat_minor": 5
}
